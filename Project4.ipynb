{
 "cells": [
  {
   "cell_type": "code",
   "execution_count": 1,
   "metadata": {},
   "outputs": [],
   "source": [
    "import pandas as pd\n",
    "import numpy as np\n",
    "import matplotlib.pyplot as plt\n",
    "import seaborn as sns\n",
    "\n",
    "from sklearn.decomposition import PCA\n",
    "from sklearn import preprocessing\n",
    "from sklearn.cluster import KMeans, AgglomerativeClustering"
   ]
  },
  {
   "cell_type": "code",
   "execution_count": 2,
   "metadata": {},
   "outputs": [],
   "source": [
    "mdf = pd.read_csv('student-mat.csv', sep=';')"
   ]
  },
  {
   "cell_type": "code",
   "execution_count": 3,
   "metadata": {},
   "outputs": [],
   "source": [
    "pdf = pd.read_csv('student-por.csv', sep=';')"
   ]
  },
  {
   "cell_type": "code",
   "execution_count": 4,
   "metadata": {},
   "outputs": [
    {
     "data": {
      "text/html": [
       "<div>\n",
       "<style scoped>\n",
       "    .dataframe tbody tr th:only-of-type {\n",
       "        vertical-align: middle;\n",
       "    }\n",
       "\n",
       "    .dataframe tbody tr th {\n",
       "        vertical-align: top;\n",
       "    }\n",
       "\n",
       "    .dataframe thead th {\n",
       "        text-align: right;\n",
       "    }\n",
       "</style>\n",
       "<table border=\"1\" class=\"dataframe\">\n",
       "  <thead>\n",
       "    <tr style=\"text-align: right;\">\n",
       "      <th></th>\n",
       "      <th>school</th>\n",
       "      <th>sex</th>\n",
       "      <th>age</th>\n",
       "      <th>address</th>\n",
       "      <th>famsize</th>\n",
       "      <th>Pstatus</th>\n",
       "      <th>Medu</th>\n",
       "      <th>Fedu</th>\n",
       "      <th>Mjob</th>\n",
       "      <th>Fjob</th>\n",
       "      <th>...</th>\n",
       "      <th>famrel</th>\n",
       "      <th>freetime</th>\n",
       "      <th>goout</th>\n",
       "      <th>Dalc</th>\n",
       "      <th>Walc</th>\n",
       "      <th>health</th>\n",
       "      <th>absences</th>\n",
       "      <th>G1</th>\n",
       "      <th>G2</th>\n",
       "      <th>G3</th>\n",
       "    </tr>\n",
       "  </thead>\n",
       "  <tbody>\n",
       "    <tr>\n",
       "      <th>0</th>\n",
       "      <td>GP</td>\n",
       "      <td>F</td>\n",
       "      <td>18</td>\n",
       "      <td>U</td>\n",
       "      <td>GT3</td>\n",
       "      <td>A</td>\n",
       "      <td>4</td>\n",
       "      <td>4</td>\n",
       "      <td>at_home</td>\n",
       "      <td>teacher</td>\n",
       "      <td>...</td>\n",
       "      <td>4</td>\n",
       "      <td>3</td>\n",
       "      <td>4</td>\n",
       "      <td>1</td>\n",
       "      <td>1</td>\n",
       "      <td>3</td>\n",
       "      <td>6</td>\n",
       "      <td>5</td>\n",
       "      <td>6</td>\n",
       "      <td>6</td>\n",
       "    </tr>\n",
       "    <tr>\n",
       "      <th>1</th>\n",
       "      <td>GP</td>\n",
       "      <td>F</td>\n",
       "      <td>17</td>\n",
       "      <td>U</td>\n",
       "      <td>GT3</td>\n",
       "      <td>T</td>\n",
       "      <td>1</td>\n",
       "      <td>1</td>\n",
       "      <td>at_home</td>\n",
       "      <td>other</td>\n",
       "      <td>...</td>\n",
       "      <td>5</td>\n",
       "      <td>3</td>\n",
       "      <td>3</td>\n",
       "      <td>1</td>\n",
       "      <td>1</td>\n",
       "      <td>3</td>\n",
       "      <td>4</td>\n",
       "      <td>5</td>\n",
       "      <td>5</td>\n",
       "      <td>6</td>\n",
       "    </tr>\n",
       "    <tr>\n",
       "      <th>2</th>\n",
       "      <td>GP</td>\n",
       "      <td>F</td>\n",
       "      <td>15</td>\n",
       "      <td>U</td>\n",
       "      <td>LE3</td>\n",
       "      <td>T</td>\n",
       "      <td>1</td>\n",
       "      <td>1</td>\n",
       "      <td>at_home</td>\n",
       "      <td>other</td>\n",
       "      <td>...</td>\n",
       "      <td>4</td>\n",
       "      <td>3</td>\n",
       "      <td>2</td>\n",
       "      <td>2</td>\n",
       "      <td>3</td>\n",
       "      <td>3</td>\n",
       "      <td>10</td>\n",
       "      <td>7</td>\n",
       "      <td>8</td>\n",
       "      <td>10</td>\n",
       "    </tr>\n",
       "    <tr>\n",
       "      <th>3</th>\n",
       "      <td>GP</td>\n",
       "      <td>F</td>\n",
       "      <td>15</td>\n",
       "      <td>U</td>\n",
       "      <td>GT3</td>\n",
       "      <td>T</td>\n",
       "      <td>4</td>\n",
       "      <td>2</td>\n",
       "      <td>health</td>\n",
       "      <td>services</td>\n",
       "      <td>...</td>\n",
       "      <td>3</td>\n",
       "      <td>2</td>\n",
       "      <td>2</td>\n",
       "      <td>1</td>\n",
       "      <td>1</td>\n",
       "      <td>5</td>\n",
       "      <td>2</td>\n",
       "      <td>15</td>\n",
       "      <td>14</td>\n",
       "      <td>15</td>\n",
       "    </tr>\n",
       "    <tr>\n",
       "      <th>4</th>\n",
       "      <td>GP</td>\n",
       "      <td>F</td>\n",
       "      <td>16</td>\n",
       "      <td>U</td>\n",
       "      <td>GT3</td>\n",
       "      <td>T</td>\n",
       "      <td>3</td>\n",
       "      <td>3</td>\n",
       "      <td>other</td>\n",
       "      <td>other</td>\n",
       "      <td>...</td>\n",
       "      <td>4</td>\n",
       "      <td>3</td>\n",
       "      <td>2</td>\n",
       "      <td>1</td>\n",
       "      <td>2</td>\n",
       "      <td>5</td>\n",
       "      <td>4</td>\n",
       "      <td>6</td>\n",
       "      <td>10</td>\n",
       "      <td>10</td>\n",
       "    </tr>\n",
       "  </tbody>\n",
       "</table>\n",
       "<p>5 rows × 33 columns</p>\n",
       "</div>"
      ],
      "text/plain": [
       "  school sex  age address famsize Pstatus  Medu  Fedu     Mjob      Fjob  ...  \\\n",
       "0     GP   F   18       U     GT3       A     4     4  at_home   teacher  ...   \n",
       "1     GP   F   17       U     GT3       T     1     1  at_home     other  ...   \n",
       "2     GP   F   15       U     LE3       T     1     1  at_home     other  ...   \n",
       "3     GP   F   15       U     GT3       T     4     2   health  services  ...   \n",
       "4     GP   F   16       U     GT3       T     3     3    other     other  ...   \n",
       "\n",
       "  famrel freetime  goout  Dalc  Walc health absences  G1  G2  G3  \n",
       "0      4        3      4     1     1      3        6   5   6   6  \n",
       "1      5        3      3     1     1      3        4   5   5   6  \n",
       "2      4        3      2     2     3      3       10   7   8  10  \n",
       "3      3        2      2     1     1      5        2  15  14  15  \n",
       "4      4        3      2     1     2      5        4   6  10  10  \n",
       "\n",
       "[5 rows x 33 columns]"
      ]
     },
     "execution_count": 4,
     "metadata": {},
     "output_type": "execute_result"
    }
   ],
   "source": [
    "mdf.head()"
   ]
  },
  {
   "cell_type": "code",
   "execution_count": 5,
   "metadata": {},
   "outputs": [
    {
     "name": "stdout",
     "output_type": "stream",
     "text": [
      "Index(['school', 'sex', 'age', 'address', 'famsize', 'Pstatus', 'Medu', 'Fedu',\n",
      "       'Mjob', 'Fjob', 'reason', 'guardian', 'traveltime', 'studytime',\n",
      "       'failures', 'schoolsup', 'famsup', 'paid', 'activities', 'nursery',\n",
      "       'higher', 'internet', 'romantic', 'famrel', 'freetime', 'goout', 'Dalc',\n",
      "       'Walc', 'health', 'absences', 'G1', 'G2', 'G3'],\n",
      "      dtype='object')\n"
     ]
    }
   ],
   "source": [
    "print(mdf.columns)"
   ]
  },
  {
   "cell_type": "code",
   "execution_count": 6,
   "metadata": {},
   "outputs": [],
   "source": [
    "mdfm = mdf[mdf['sex'] == 'M']\n",
    "mdff = mdf[mdf['sex'] == 'F']"
   ]
  },
  {
   "cell_type": "code",
   "execution_count": 7,
   "metadata": {},
   "outputs": [],
   "source": [
    "pdfm = pdf[pdf['sex'] == 'M']\n",
    "pdff = pdf[pdf['sex'] == 'F']"
   ]
  },
  {
   "cell_type": "code",
   "execution_count": 8,
   "metadata": {},
   "outputs": [],
   "source": [
    "selected_columns = ['Pstatus', 'Medu', 'Fedu', 'traveltime', 'famsup', 'address', 'internet', 'famrel', 'health', 'absences', 'freetime', 'goout', 'failures', 'paid', 'G3']"
   ]
  },
  {
   "cell_type": "code",
   "execution_count": 9,
   "metadata": {},
   "outputs": [],
   "source": [
    "mdfm = mdfm[selected_columns]\n",
    "pdfm = pdfm[selected_columns]\n",
    "mdff = mdff[selected_columns]\n",
    "pdff = pdff[selected_columns]"
   ]
  },
  {
   "cell_type": "code",
   "execution_count": 10,
   "metadata": {},
   "outputs": [
    {
     "data": {
      "text/html": [
       "<div>\n",
       "<style scoped>\n",
       "    .dataframe tbody tr th:only-of-type {\n",
       "        vertical-align: middle;\n",
       "    }\n",
       "\n",
       "    .dataframe tbody tr th {\n",
       "        vertical-align: top;\n",
       "    }\n",
       "\n",
       "    .dataframe thead th {\n",
       "        text-align: right;\n",
       "    }\n",
       "</style>\n",
       "<table border=\"1\" class=\"dataframe\">\n",
       "  <thead>\n",
       "    <tr style=\"text-align: right;\">\n",
       "      <th></th>\n",
       "      <th>Pstatus</th>\n",
       "      <th>Medu</th>\n",
       "      <th>Fedu</th>\n",
       "      <th>traveltime</th>\n",
       "      <th>famsup</th>\n",
       "      <th>address</th>\n",
       "      <th>internet</th>\n",
       "      <th>famrel</th>\n",
       "      <th>health</th>\n",
       "      <th>absences</th>\n",
       "      <th>freetime</th>\n",
       "      <th>goout</th>\n",
       "      <th>failures</th>\n",
       "      <th>paid</th>\n",
       "      <th>G3</th>\n",
       "    </tr>\n",
       "  </thead>\n",
       "  <tbody>\n",
       "    <tr>\n",
       "      <th>5</th>\n",
       "      <td>T</td>\n",
       "      <td>4</td>\n",
       "      <td>3</td>\n",
       "      <td>1</td>\n",
       "      <td>yes</td>\n",
       "      <td>U</td>\n",
       "      <td>yes</td>\n",
       "      <td>5</td>\n",
       "      <td>5</td>\n",
       "      <td>10</td>\n",
       "      <td>4</td>\n",
       "      <td>2</td>\n",
       "      <td>0</td>\n",
       "      <td>yes</td>\n",
       "      <td>15</td>\n",
       "    </tr>\n",
       "    <tr>\n",
       "      <th>6</th>\n",
       "      <td>T</td>\n",
       "      <td>2</td>\n",
       "      <td>2</td>\n",
       "      <td>1</td>\n",
       "      <td>no</td>\n",
       "      <td>U</td>\n",
       "      <td>yes</td>\n",
       "      <td>4</td>\n",
       "      <td>3</td>\n",
       "      <td>0</td>\n",
       "      <td>4</td>\n",
       "      <td>4</td>\n",
       "      <td>0</td>\n",
       "      <td>no</td>\n",
       "      <td>11</td>\n",
       "    </tr>\n",
       "    <tr>\n",
       "      <th>8</th>\n",
       "      <td>A</td>\n",
       "      <td>3</td>\n",
       "      <td>2</td>\n",
       "      <td>1</td>\n",
       "      <td>yes</td>\n",
       "      <td>U</td>\n",
       "      <td>yes</td>\n",
       "      <td>4</td>\n",
       "      <td>1</td>\n",
       "      <td>0</td>\n",
       "      <td>2</td>\n",
       "      <td>2</td>\n",
       "      <td>0</td>\n",
       "      <td>yes</td>\n",
       "      <td>19</td>\n",
       "    </tr>\n",
       "    <tr>\n",
       "      <th>9</th>\n",
       "      <td>T</td>\n",
       "      <td>3</td>\n",
       "      <td>4</td>\n",
       "      <td>1</td>\n",
       "      <td>yes</td>\n",
       "      <td>U</td>\n",
       "      <td>yes</td>\n",
       "      <td>5</td>\n",
       "      <td>5</td>\n",
       "      <td>0</td>\n",
       "      <td>5</td>\n",
       "      <td>1</td>\n",
       "      <td>0</td>\n",
       "      <td>yes</td>\n",
       "      <td>15</td>\n",
       "    </tr>\n",
       "    <tr>\n",
       "      <th>12</th>\n",
       "      <td>T</td>\n",
       "      <td>4</td>\n",
       "      <td>4</td>\n",
       "      <td>1</td>\n",
       "      <td>yes</td>\n",
       "      <td>U</td>\n",
       "      <td>yes</td>\n",
       "      <td>4</td>\n",
       "      <td>5</td>\n",
       "      <td>2</td>\n",
       "      <td>3</td>\n",
       "      <td>3</td>\n",
       "      <td>0</td>\n",
       "      <td>yes</td>\n",
       "      <td>14</td>\n",
       "    </tr>\n",
       "  </tbody>\n",
       "</table>\n",
       "</div>"
      ],
      "text/plain": [
       "   Pstatus  Medu  Fedu  traveltime famsup address internet  famrel  health  \\\n",
       "5        T     4     3           1    yes       U      yes       5       5   \n",
       "6        T     2     2           1     no       U      yes       4       3   \n",
       "8        A     3     2           1    yes       U      yes       4       1   \n",
       "9        T     3     4           1    yes       U      yes       5       5   \n",
       "12       T     4     4           1    yes       U      yes       4       5   \n",
       "\n",
       "    absences  freetime  goout  failures paid  G3  \n",
       "5         10         4      2         0  yes  15  \n",
       "6          0         4      4         0   no  11  \n",
       "8          0         2      2         0  yes  19  \n",
       "9          0         5      1         0  yes  15  \n",
       "12         2         3      3         0  yes  14  "
      ]
     },
     "execution_count": 10,
     "metadata": {},
     "output_type": "execute_result"
    }
   ],
   "source": [
    "mdfm.head()"
   ]
  },
  {
   "cell_type": "code",
   "execution_count": 11,
   "metadata": {},
   "outputs": [],
   "source": [
    "binary_mappings = {\n",
    "    'Pstatus': {'T': 1, 'A': 0},\n",
    "    'famsup': {'yes': 1, 'no': 0},\n",
    "    'address': {'U': 1, 'R': 0},\n",
    "    'internet': {'yes': 1, 'no': 0},\n",
    "    'paid': {'yes': 1, 'no': 0}\n",
    "}\n",
    "\n",
    "datasets = [mdfm, mdff, pdfm, pdff]\n",
    "\n",
    "for dataset in datasets:\n",
    "    for column, mapping in binary_mappings.items():\n",
    "        dataset[column] = dataset[column].map(mapping).fillna(0).astype(int)"
   ]
  },
  {
   "cell_type": "code",
   "execution_count": 12,
   "metadata": {},
   "outputs": [
    {
     "data": {
      "text/html": [
       "<div>\n",
       "<style scoped>\n",
       "    .dataframe tbody tr th:only-of-type {\n",
       "        vertical-align: middle;\n",
       "    }\n",
       "\n",
       "    .dataframe tbody tr th {\n",
       "        vertical-align: top;\n",
       "    }\n",
       "\n",
       "    .dataframe thead th {\n",
       "        text-align: right;\n",
       "    }\n",
       "</style>\n",
       "<table border=\"1\" class=\"dataframe\">\n",
       "  <thead>\n",
       "    <tr style=\"text-align: right;\">\n",
       "      <th></th>\n",
       "      <th>Pstatus</th>\n",
       "      <th>Medu</th>\n",
       "      <th>Fedu</th>\n",
       "      <th>traveltime</th>\n",
       "      <th>famsup</th>\n",
       "      <th>address</th>\n",
       "      <th>internet</th>\n",
       "      <th>famrel</th>\n",
       "      <th>health</th>\n",
       "      <th>absences</th>\n",
       "      <th>freetime</th>\n",
       "      <th>goout</th>\n",
       "      <th>failures</th>\n",
       "      <th>paid</th>\n",
       "      <th>G3</th>\n",
       "    </tr>\n",
       "  </thead>\n",
       "  <tbody>\n",
       "    <tr>\n",
       "      <th>5</th>\n",
       "      <td>1</td>\n",
       "      <td>4</td>\n",
       "      <td>3</td>\n",
       "      <td>1</td>\n",
       "      <td>1</td>\n",
       "      <td>1</td>\n",
       "      <td>1</td>\n",
       "      <td>5</td>\n",
       "      <td>5</td>\n",
       "      <td>10</td>\n",
       "      <td>4</td>\n",
       "      <td>2</td>\n",
       "      <td>0</td>\n",
       "      <td>1</td>\n",
       "      <td>15</td>\n",
       "    </tr>\n",
       "    <tr>\n",
       "      <th>6</th>\n",
       "      <td>1</td>\n",
       "      <td>2</td>\n",
       "      <td>2</td>\n",
       "      <td>1</td>\n",
       "      <td>0</td>\n",
       "      <td>1</td>\n",
       "      <td>1</td>\n",
       "      <td>4</td>\n",
       "      <td>3</td>\n",
       "      <td>0</td>\n",
       "      <td>4</td>\n",
       "      <td>4</td>\n",
       "      <td>0</td>\n",
       "      <td>0</td>\n",
       "      <td>11</td>\n",
       "    </tr>\n",
       "    <tr>\n",
       "      <th>8</th>\n",
       "      <td>0</td>\n",
       "      <td>3</td>\n",
       "      <td>2</td>\n",
       "      <td>1</td>\n",
       "      <td>1</td>\n",
       "      <td>1</td>\n",
       "      <td>1</td>\n",
       "      <td>4</td>\n",
       "      <td>1</td>\n",
       "      <td>0</td>\n",
       "      <td>2</td>\n",
       "      <td>2</td>\n",
       "      <td>0</td>\n",
       "      <td>1</td>\n",
       "      <td>19</td>\n",
       "    </tr>\n",
       "    <tr>\n",
       "      <th>9</th>\n",
       "      <td>1</td>\n",
       "      <td>3</td>\n",
       "      <td>4</td>\n",
       "      <td>1</td>\n",
       "      <td>1</td>\n",
       "      <td>1</td>\n",
       "      <td>1</td>\n",
       "      <td>5</td>\n",
       "      <td>5</td>\n",
       "      <td>0</td>\n",
       "      <td>5</td>\n",
       "      <td>1</td>\n",
       "      <td>0</td>\n",
       "      <td>1</td>\n",
       "      <td>15</td>\n",
       "    </tr>\n",
       "    <tr>\n",
       "      <th>12</th>\n",
       "      <td>1</td>\n",
       "      <td>4</td>\n",
       "      <td>4</td>\n",
       "      <td>1</td>\n",
       "      <td>1</td>\n",
       "      <td>1</td>\n",
       "      <td>1</td>\n",
       "      <td>4</td>\n",
       "      <td>5</td>\n",
       "      <td>2</td>\n",
       "      <td>3</td>\n",
       "      <td>3</td>\n",
       "      <td>0</td>\n",
       "      <td>1</td>\n",
       "      <td>14</td>\n",
       "    </tr>\n",
       "  </tbody>\n",
       "</table>\n",
       "</div>"
      ],
      "text/plain": [
       "    Pstatus  Medu  Fedu  traveltime  famsup  address  internet  famrel  \\\n",
       "5         1     4     3           1       1        1         1       5   \n",
       "6         1     2     2           1       0        1         1       4   \n",
       "8         0     3     2           1       1        1         1       4   \n",
       "9         1     3     4           1       1        1         1       5   \n",
       "12        1     4     4           1       1        1         1       4   \n",
       "\n",
       "    health  absences  freetime  goout  failures  paid  G3  \n",
       "5        5        10         4      2         0     1  15  \n",
       "6        3         0         4      4         0     0  11  \n",
       "8        1         0         2      2         0     1  19  \n",
       "9        5         0         5      1         0     1  15  \n",
       "12       5         2         3      3         0     1  14  "
      ]
     },
     "execution_count": 12,
     "metadata": {},
     "output_type": "execute_result"
    }
   ],
   "source": [
    "mdfm.head()"
   ]
  },
  {
   "cell_type": "code",
   "execution_count": 13,
   "metadata": {},
   "outputs": [],
   "source": [
    "for dataset in [mdfm, mdff, pdfm, pdff]:\n",
    "    dataset['Pedu'] = dataset['Medu'] + dataset['Fedu']\n",
    "    dataset.drop(columns=['Medu', 'Fedu'], inplace=True)"
   ]
  },
  {
   "cell_type": "code",
   "execution_count": 14,
   "metadata": {},
   "outputs": [],
   "source": [
    "mdfm['category'] = 1\n",
    "pdfm['category'] = 2\n",
    "mdff['category'] = 3\n",
    "pdff['category'] = 4"
   ]
  },
  {
   "cell_type": "code",
   "execution_count": 15,
   "metadata": {},
   "outputs": [],
   "source": [
    "fulldf = pd.concat([mdfm, pdfm, mdff, pdff], ignore_index=True)"
   ]
  },
  {
   "cell_type": "code",
   "execution_count": 16,
   "metadata": {},
   "outputs": [
    {
     "data": {
      "text/plain": [
       "<Axes: xlabel='Pedu', ylabel='G3'>"
      ]
     },
     "execution_count": 16,
     "metadata": {},
     "output_type": "execute_result"
    },
    {
     "data": {
      "image/png": "[encoded data removed]",
      "text/plain": [
       "<Figure size 640x480 with 1 Axes>"
      ]
     },
     "metadata": {},
     "output_type": "display_data"
    }
   ],
   "source": [
    "sns.scatterplot(x='Pedu', y='G3', hue='address', data=fulldf)"
   ]
  },
  {
   "cell_type": "code",
   "execution_count": 17,
   "metadata": {},
   "outputs": [
    {
     "data": {
      "text/plain": [
       "<Axes: >"
      ]
     },
     "execution_count": 17,
     "metadata": {},
     "output_type": "execute_result"
    },
    {
     "data": {
      "image/png": "[encoded data removed]",
      "text/plain": [
       "<Figure size 1500x800 with 2 Axes>"
      ]
     },
     "metadata": {},
     "output_type": "display_data"
    }
   ],
   "source": [
    "plt.figure(figsize=(15,8))\n",
    "sns.heatmap(fulldf.corr(numeric_only= True),annot = True)"
   ]
  },
  {
   "cell_type": "code",
   "execution_count": 18,
   "metadata": {},
   "outputs": [],
   "source": [
    "X = fulldf[['Pedu','failures','goout','freetime','absences','internet', 'paid']]"
   ]
  },
  {
   "cell_type": "code",
   "execution_count": null,
   "metadata": {},
   "outputs": [],
   "source": []
  },
  {
   "cell_type": "code",
   "execution_count": 19,
   "metadata": {},
   "outputs": [],
   "source": [
    "pca = PCA(n_components=2)\n",
    "pca_mdl = pca.fit_transform(X)\n",
    "pca_df = pd.DataFrame(pca_mdl)"
   ]
  },
  {
   "cell_type": "code",
   "execution_count": 20,
   "metadata": {},
   "outputs": [
    {
     "data": {
      "text/plain": [
       "<Axes: xlabel='0', ylabel='1'>"
      ]
     },
     "execution_count": 20,
     "metadata": {},
     "output_type": "execute_result"
    },
    {
     "data": {
      "image/png": "[encoded data removed]",
      "text/plain": [
       "<Figure size 640x480 with 1 Axes>"
      ]
     },
     "metadata": {},
     "output_type": "display_data"
    }
   ],
   "source": [
    "sns.scatterplot(x = pca_df[0], y = pca_df[1])"
   ]
  },
  {
   "cell_type": "code",
   "execution_count": 21,
   "metadata": {},
   "outputs": [
    {
     "data": {
      "text/plain": [
       "<Axes: xlabel='0', ylabel='1'>"
      ]
     },
     "execution_count": 21,
     "metadata": {},
     "output_type": "execute_result"
    },
    {
     "data": {
      "image/png": "[encoded data removed]",
      "text/plain": [
       "<Figure size 640x480 with 1 Axes>"
      ]
     },
     "metadata": {},
     "output_type": "display_data"
    }
   ],
   "source": [
    "sns.scatterplot(x = pca_df[0], y = pca_df[1], hue=fulldf.category)"
   ]
  },
  {
   "cell_type": "code",
   "execution_count": 22,
   "metadata": {},
   "outputs": [
    {
     "data": {
      "text/plain": [
       "Text(0, 0.5, 'Variance')"
      ]
     },
     "execution_count": 22,
     "metadata": {},
     "output_type": "execute_result"
    },
    {
     "data": {
      "image/png": "[encoded data removed]",
      "text/plain": [
       "<Figure size 640x480 with 1 Axes>"
      ]
     },
     "metadata": {},
     "output_type": "display_data"
    }
   ],
   "source": [
    "inertia = []\n",
    "for k in range(1,8):\n",
    "    kmeans = KMeans(n_clusters=k, random_state=1).fit(X)\n",
    "    inertia.append(np.sqrt(kmeans.inertia_))\n",
    "plt.plot(range(1, 8), inertia, marker='s');\n",
    "plt.xlabel('$k$')\n",
    "plt.ylabel('Variance')"
   ]
  },
  {
   "cell_type": "code",
   "execution_count": 23,
   "metadata": {},
   "outputs": [
    {
     "data": {
      "text/plain": [
       "<Axes: xlabel='0', ylabel='1'>"
      ]
     },
     "execution_count": 23,
     "metadata": {},
     "output_type": "execute_result"
    },
    {
     "data": {
      "image/png": "[encoded data removed]",
      "text/plain": [
       "<Figure size 640x480 with 1 Axes>"
      ]
     },
     "metadata": {},
     "output_type": "display_data"
    }
   ],
   "source": [
    "kmeans = KMeans(n_clusters=3, random_state=1).fit(X)\n",
    "y = kmeans.fit_predict(X)\n",
    "sns.scatterplot(x = pca_df[0], y = pca_df[1], hue=y)"
   ]
  },
  {
   "cell_type": "code",
   "execution_count": 24,
   "metadata": {},
   "outputs": [],
   "source": [
    "ydf = pd.DataFrame(y, columns=['Cluster'])\n",
    "finaldf = pd.concat([fulldf, ydf], axis=1)"
   ]
  },
  {
   "cell_type": "code",
   "execution_count": 25,
   "metadata": {},
   "outputs": [
    {
     "name": "stdout",
     "output_type": "stream",
     "text": [
      "Cluster\n",
      "0    11.404402\n",
      "1    11.255172\n",
      "2    10.592593\n",
      "Name: G3, dtype: float64\n"
     ]
    }
   ],
   "source": [
    "gradeanalysis = finaldf.groupby('Cluster')['G3'].mean()\n",
    "print(gradeanalysis)"
   ]
  },
  {
   "cell_type": "code",
   "execution_count": 26,
   "metadata": {},
   "outputs": [],
   "source": [
    "import plotly.express as px"
   ]
  },
  {
   "cell_type": "code",
   "execution_count": 27,
   "metadata": {},
   "outputs": [
    {
     "data": {
      "application/vnd.plotly.v1+json": {
       "config": {
        "plotlyServerURL": "https://plot.ly"
       },
       "data": [
        {
         "customdata": [
          [
           1,
           15
          ],
          [
           1,
           11
          ],
          [
           1,
           19
          ],
          [
           1,
           15
          ],
          [
           1,
           14
          ],
          [
           1,
           11
          ],
          [
           1,
           16
          ],
          [
           1,
           5
          ],
          [
           1,
           10
          ],
          [
           1,
           15
          ],
          [
           1,
           15
          ],
          [
           1,
           16
          ],
          [
           1,
           12
          ],
          [
           1,
           11
          ],
          [
           1,
           15
          ],
          [
           1,
           11
          ],
          [
           1,
           11
          ],
          [
           1,
           12
          ],
          [
           1,
           17
          ],
          [
           1,
           16
          ],
          [
           1,
           12
          ],
          [
           1,
           15
          ],
          [
           1,
           18
          ],
          [
           1,
           15
          ],
          [
           1,
           12
          ],
          [
           1,
           18
          ],
          [
           1,
           11
          ],
          [
           1,
           20
          ],
          [
           1,
           14
          ],
          [
           1,
           10
          ],
          [
           1,
           15
          ],
          [
           1,
           9
          ],
          [
           1,
           12
          ],
          [
           1,
           15
          ],
          [
           1,
           10
          ],
          [
           1,
           14
          ],
          [
           1,
           10
          ],
          [
           1,
           10
          ],
          [
           1,
           10
          ],
          [
           1,
           12
          ],
          [
           1,
           11
          ],
          [
           1,
           15
          ],
          [
           1,
           10
          ],
          [
           1,
           7
          ],
          [
           1,
           14
          ],
          [
           1,
           15
          ],
          [
           1,
           5
          ],
          [
           1,
           17
          ],
          [
           1,
           14
          ],
          [
           1,
           18
          ],
          [
           1,
           18
          ],
          [
           1,
           13
          ],
          [
           1,
           19
          ],
          [
           1,
           19
          ],
          [
           1,
           9
          ],
          [
           1,
           16
          ],
          [
           1,
           14
          ],
          [
           1,
           13
          ],
          [
           1,
           8
          ],
          [
           1,
           13
          ],
          [
           1,
           15
          ],
          [
           1,
           13
          ],
          [
           1,
           12
          ],
          [
           1,
           0
          ],
          [
           1,
           18
          ],
          [
           1,
           0
          ],
          [
           1,
           0
          ],
          [
           1,
           12
          ],
          [
           1,
           0
          ],
          [
           1,
           9
          ],
          [
           1,
           0
          ],
          [
           1,
           0
          ],
          [
           1,
           10
          ],
          [
           1,
           0
          ],
          [
           1,
           14
          ],
          [
           1,
           0
          ],
          [
           1,
           8
          ],
          [
           1,
           13
          ],
          [
           1,
           15
          ],
          [
           1,
           12
          ],
          [
           1,
           0
          ],
          [
           1,
           7
          ],
          [
           1,
           0
          ],
          [
           1,
           10
          ],
          [
           1,
           7
          ],
          [
           1,
           12
          ],
          [
           1,
           10
          ],
          [
           1,
           0
          ],
          [
           1,
           16
          ],
          [
           1,
           10
          ],
          [
           1,
           9
          ],
          [
           1,
           6
          ],
          [
           1,
           9
          ],
          [
           1,
           11
          ],
          [
           1,
           8
          ],
          [
           1,
           12
          ],
          [
           1,
           11
          ],
          [
           1,
           11
          ],
          [
           1,
           15
          ],
          [
           1,
           10
          ],
          [
           1,
           8
          ],
          [
           1,
           10
          ],
          [
           1,
           14
          ],
          [
           1,
           16
          ],
          [
           1,
           10
          ],
          [
           1,
           13
          ],
          [
           1,
           8
          ],
          [
           1,
           8
          ],
          [
           1,
           13
          ],
          [
           1,
           12
          ],
          [
           1,
           9
          ],
          [
           1,
           11
          ],
          [
           1,
           9
          ],
          [
           1,
           13
          ],
          [
           1,
           6
          ],
          [
           1,
           10
          ],
          [
           1,
           13
          ],
          [
           1,
           0
          ],
          [
           1,
           12
          ],
          [
           1,
           12
          ],
          [
           1,
           0
          ],
          [
           1,
           12
          ],
          [
           1,
           18
          ],
          [
           1,
           13
          ],
          [
           1,
           8
          ],
          [
           1,
           5
          ],
          [
           1,
           15
          ],
          [
           1,
           8
          ],
          [
           1,
           10
          ],
          [
           1,
           8
          ],
          [
           1,
           8
          ],
          [
           1,
           12
          ],
          [
           1,
           8
          ],
          [
           1,
           11
          ],
          [
           1,
           14
          ],
          [
           1,
           8
          ],
          [
           1,
           12
          ],
          [
           1,
           17
          ],
          [
           1,
           10
          ],
          [
           1,
           10
          ],
          [
           1,
           14
          ],
          [
           1,
           9
          ],
          [
           1,
           10
          ],
          [
           1,
           8
          ],
          [
           1,
           10
          ],
          [
           1,
           11
          ],
          [
           1,
           14
          ],
          [
           1,
           15
          ],
          [
           1,
           11
          ],
          [
           1,
           14
          ],
          [
           1,
           11
          ],
          [
           1,
           16
          ],
          [
           1,
           10
          ],
          [
           1,
           13
          ],
          [
           1,
           18
          ],
          [
           1,
           8
          ],
          [
           1,
           12
          ],
          [
           1,
           11
          ],
          [
           1,
           11
          ],
          [
           1,
           16
          ],
          [
           1,
           10
          ],
          [
           1,
           8
          ],
          [
           1,
           0
          ],
          [
           1,
           15
          ],
          [
           1,
           16
          ],
          [
           1,
           9
          ],
          [
           1,
           13
          ],
          [
           1,
           8
          ],
          [
           1,
           13
          ],
          [
           1,
           8
          ],
          [
           1,
           8
          ],
          [
           1,
           11
          ],
          [
           1,
           10
          ],
          [
           1,
           12
          ],
          [
           1,
           10
          ],
          [
           1,
           13
          ],
          [
           1,
           12
          ],
          [
           1,
           14
          ],
          [
           1,
           7
          ],
          [
           1,
           10
          ],
          [
           1,
           0
          ],
          [
           1,
           5
          ],
          [
           1,
           9
          ],
          [
           1,
           16
          ],
          [
           1,
           7
          ],
          [
           1,
           10
          ],
          [
           1,
           9
          ],
          [
           2,
           13
          ],
          [
           2,
           13
          ],
          [
           2,
           17
          ],
          [
           2,
           13
          ],
          [
           2,
           12
          ],
          [
           2,
           13
          ],
          [
           2,
           15
          ],
          [
           2,
           7
          ],
          [
           2,
           12
          ],
          [
           2,
           14
          ],
          [
           2,
           12
          ],
          [
           2,
           14
          ],
          [
           2,
           10
          ],
          [
           2,
           12
          ],
          [
           2,
           11
          ],
          [
           2,
           13
          ],
          [
           2,
           12
          ],
          [
           2,
           11
          ],
          [
           2,
           15
          ],
          [
           2,
           15
          ],
          [
           2,
           12
          ],
          [
           2,
           12
          ],
          [
           2,
           14
          ],
          [
           2,
           13
          ],
          [
           2,
           11
          ],
          [
           2,
           15
          ],
          [
           2,
           10
          ],
          [
           2,
           17
          ],
          [
           2,
           13
          ],
          [
           2,
           9
          ],
          [
           2,
           16
          ],
          [
           2,
           14
          ],
          [
           2,
           12
          ],
          [
           2,
           11
          ],
          [
           2,
           10
          ],
          [
           2,
           14
          ],
          [
           2,
           11
          ],
          [
           2,
           11
          ],
          [
           2,
           10
          ],
          [
           2,
           12
          ],
          [
           2,
           9
          ],
          [
           2,
           13
          ],
          [
           2,
           11
          ],
          [
           2,
           10
          ],
          [
           2,
           12
          ],
          [
           2,
           11
          ],
          [
           2,
           8
          ],
          [
           2,
           16
          ],
          [
           2,
           12
          ],
          [
           2,
           16
          ],
          [
           2,
           14
          ],
          [
           2,
           11
          ],
          [
           2,
           14
          ],
          [
           2,
           18
          ],
          [
           2,
           10
          ],
          [
           2,
           14
          ],
          [
           2,
           16
          ],
          [
           2,
           15
          ],
          [
           2,
           11
          ],
          [
           2,
           14
          ],
          [
           2,
           13
          ],
          [
           2,
           13
          ],
          [
           2,
           9
          ],
          [
           2,
           15
          ],
          [
           2,
           13
          ],
          [
           2,
           11
          ],
          [
           2,
           11
          ],
          [
           2,
           10
          ],
          [
           2,
           12
          ],
          [
           2,
           10
          ],
          [
           2,
           11
          ],
          [
           2,
           13
          ],
          [
           2,
           11
          ],
          [
           2,
           6
          ],
          [
           2,
           8
          ],
          [
           2,
           11
          ],
          [
           2,
           0
          ],
          [
           2,
           10
          ],
          [
           2,
           11
          ],
          [
           2,
           8
          ],
          [
           2,
           10
          ],
          [
           2,
           11
          ],
          [
           2,
           1
          ],
          [
           2,
           10
          ],
          [
           2,
           9
          ],
          [
           2,
           8
          ],
          [
           2,
           10
          ],
          [
           2,
           8
          ],
          [
           2,
           8
          ],
          [
           2,
           8
          ],
          [
           2,
           11
          ],
          [
           2,
           10
          ],
          [
           2,
           18
          ],
          [
           2,
           10
          ],
          [
           2,
           11
          ],
          [
           2,
           10
          ],
          [
           2,
           11
          ],
          [
           2,
           13
          ],
          [
           2,
           11
          ],
          [
           2,
           13
          ],
          [
           2,
           14
          ],
          [
           2,
           11
          ],
          [
           2,
           16
          ],
          [
           2,
           10
          ],
          [
           2,
           12
          ],
          [
           2,
           10
          ],
          [
           2,
           12
          ],
          [
           2,
           14
          ],
          [
           2,
           12
          ],
          [
           2,
           12
          ],
          [
           2,
           11
          ],
          [
           2,
           10
          ],
          [
           2,
           10
          ],
          [
           2,
           11
          ],
          [
           2,
           11
          ],
          [
           2,
           13
          ],
          [
           2,
           13
          ],
          [
           2,
           14
          ],
          [
           2,
           9
          ],
          [
           2,
           12
          ],
          [
           2,
           16
          ],
          [
           2,
           8
          ],
          [
           2,
           9
          ],
          [
           2,
           8
          ],
          [
           2,
           15
          ],
          [
           2,
           12
          ],
          [
           2,
           15
          ],
          [
           2,
           15
          ],
          [
           2,
           15
          ],
          [
           2,
           16
          ],
          [
           2,
           13
          ],
          [
           2,
           5
          ],
          [
           2,
           10
          ],
          [
           2,
           11
          ],
          [
           2,
           7
          ],
          [
           2,
           10
          ],
          [
           2,
           6
          ],
          [
           2,
           12
          ],
          [
           2,
           13
          ],
          [
           2,
           10
          ],
          [
           2,
           11
          ],
          [
           2,
           14
          ],
          [
           2,
           16
          ],
          [
           2,
           10
          ],
          [
           2,
           11
          ],
          [
           2,
           12
          ],
          [
           2,
           9
          ],
          [
           2,
           16
          ],
          [
           2,
           14
          ],
          [
           2,
           14
          ],
          [
           2,
           18
          ],
          [
           2,
           12
          ],
          [
           2,
           10
          ],
          [
           2,
           11
          ],
          [
           2,
           10
          ],
          [
           2,
           13
          ],
          [
           2,
           12
          ],
          [
           2,
           15
          ],
          [
           2,
           17
          ],
          [
           2,
           16
          ],
          [
           2,
           15
          ],
          [
           2,
           15
          ],
          [
           2,
           17
          ],
          [
           2,
           13
          ],
          [
           2,
           11
          ],
          [
           2,
           15
          ],
          [
           2,
           11
          ],
          [
           2,
           10
          ],
          [
           2,
           11
          ],
          [
           2,
           13
          ],
          [
           2,
           17
          ],
          [
           2,
           10
          ],
          [
           2,
           12
          ],
          [
           2,
           10
          ],
          [
           2,
           15
          ],
          [
           2,
           13
          ],
          [
           2,
           17
          ],
          [
           2,
           17
          ],
          [
           2,
           14
          ],
          [
           2,
           12
          ],
          [
           2,
           15
          ],
          [
           2,
           15
          ],
          [
           2,
           10
          ],
          [
           2,
           18
          ],
          [
           2,
           14
          ],
          [
           2,
           11
          ],
          [
           2,
           11
          ],
          [
           2,
           11
          ],
          [
           2,
           0
          ],
          [
           2,
           9
          ],
          [
           2,
           14
          ],
          [
           2,
           8
          ],
          [
           2,
           11
          ],
          [
           2,
           9
          ],
          [
           2,
           11
          ],
          [
           2,
           9
          ],
          [
           2,
           11
          ],
          [
           2,
           11
          ],
          [
           2,
           11
          ],
          [
           2,
           11
          ],
          [
           2,
           13
          ],
          [
           2,
           13
          ],
          [
           2,
           10
          ],
          [
           2,
           11
          ],
          [
           2,
           11
          ],
          [
           2,
           10
          ],
          [
           2,
           10
          ],
          [
           2,
           7
          ],
          [
           2,
           13
          ],
          [
           2,
           9
          ],
          [
           2,
           9
          ],
          [
           2,
           0
          ],
          [
           2,
           6
          ],
          [
           2,
           16
          ],
          [
           2,
           10
          ],
          [
           2,
           9
          ],
          [
           2,
           10
          ],
          [
           2,
           8
          ],
          [
           2,
           12
          ],
          [
           2,
           10
          ],
          [
           2,
           14
          ],
          [
           2,
           12
          ],
          [
           2,
           8
          ],
          [
           2,
           12
          ],
          [
           2,
           8
          ],
          [
           2,
           11
          ],
          [
           2,
           13
          ],
          [
           2,
           13
          ],
          [
           2,
           10
          ],
          [
           2,
           12
          ],
          [
           2,
           11
          ],
          [
           2,
           10
          ],
          [
           2,
           13
          ],
          [
           2,
           10
          ],
          [
           2,
           10
          ],
          [
           2,
           0
          ],
          [
           2,
           10
          ],
          [
           2,
           9
          ],
          [
           2,
           9
          ],
          [
           2,
           0
          ],
          [
           2,
           9
          ],
          [
           2,
           8
          ],
          [
           2,
           8
          ],
          [
           2,
           9
          ],
          [
           2,
           10
          ],
          [
           2,
           11
          ],
          [
           2,
           11
          ],
          [
           2,
           10
          ],
          [
           2,
           9
          ],
          [
           2,
           10
          ],
          [
           2,
           17
          ],
          [
           2,
           11
          ],
          [
           2,
           14
          ],
          [
           2,
           14
          ],
          [
           2,
           11
          ],
          [
           2,
           14
          ],
          [
           2,
           9
          ],
          [
           2,
           16
          ],
          [
           2,
           10
          ],
          [
           2,
           19
          ],
          [
           2,
           0
          ],
          [
           2,
           16
          ],
          [
           2,
           0
          ],
          [
           2,
           0
          ],
          [
           2,
           10
          ],
          [
           2,
           11
          ],
          [
           3,
           6
          ],
          [
           3,
           6
          ],
          [
           3,
           10
          ],
          [
           3,
           15
          ],
          [
           3,
           10
          ],
          [
           3,
           6
          ],
          [
           3,
           9
          ],
          [
           3,
           12
          ],
          [
           3,
           14
          ],
          [
           3,
           14
          ],
          [
           3,
           10
          ],
          [
           3,
           8
          ],
          [
           3,
           8
          ],
          [
           3,
           6
          ],
          [
           3,
           11
          ],
          [
           3,
           13
          ],
          [
           3,
           11
          ],
          [
           3,
           9
          ],
          [
           3,
           6
          ],
          [
           3,
           11
          ],
          [
           3,
           7
          ],
          [
           3,
           13
          ],
          [
           3,
           13
          ],
          [
           3,
           11
          ],
          [
           3,
           13
          ],
          [
           3,
           10
          ],
          [
           3,
           15
          ],
          [
           3,
           16
          ],
          [
           3,
           11
          ],
          [
           3,
           11
          ],
          [
           3,
           9
          ],
          [
           3,
           9
          ],
          [
           3,
           10
          ],
          [
           3,
           15
          ],
          [
           3,
           6
          ],
          [
           3,
           8
          ],
          [
           3,
           16
          ],
          [
           3,
           5
          ],
          [
           3,
           11
          ],
          [
           3,
           11
          ],
          [
           3,
           5
          ],
          [
           3,
           6
          ],
          [
           3,
           10
          ],
          [
           3,
           8
          ],
          [
           3,
           6
          ],
          [
           3,
           14
          ],
          [
           3,
           8
          ],
          [
           3,
           18
          ],
          [
           3,
           6
          ],
          [
           3,
           10
          ],
          [
           3,
           10
          ],
          [
           3,
           10
          ],
          [
           3,
           14
          ],
          [
           3,
           8
          ],
          [
           3,
           6
          ],
          [
           3,
           11
          ],
          [
           3,
           8
          ],
          [
           3,
           16
          ],
          [
           3,
           10
          ],
          [
           3,
           13
          ],
          [
           3,
           15
          ],
          [
           3,
           13
          ],
          [
           3,
           8
          ],
          [
           3,
           11
          ],
          [
           3,
           9
          ],
          [
           3,
           0
          ],
          [
           3,
           0
          ],
          [
           3,
           12
          ],
          [
           3,
           11
          ],
          [
           3,
           0
          ],
          [
           3,
           0
          ],
          [
           3,
           15
          ],
          [
           3,
           11
          ],
          [
           3,
           13
          ],
          [
           3,
           11
          ],
          [
           3,
           0
          ],
          [
           3,
           11
          ],
          [
           3,
           10
          ],
          [
           3,
           12
          ],
          [
           3,
           10
          ],
          [
           3,
           16
          ],
          [
           3,
           0
          ],
          [
           3,
           14
          ],
          [
           3,
           0
          ],
          [
           3,
           9
          ],
          [
           3,
           11
          ],
          [
           3,
           17
          ],
          [
           3,
           8
          ],
          [
           3,
           12
          ],
          [
           3,
           9
          ],
          [
           3,
           13
          ],
          [
           3,
           9
          ],
          [
           3,
           15
          ],
          [
           3,
           18
          ],
          [
           3,
           10
          ],
          [
           3,
           16
          ],
          [
           3,
           10
          ],
          [
           3,
           10
          ],
          [
           3,
           6
          ],
          [
           3,
           11
          ],
          [
           3,
           9
          ],
          [
           3,
           7
          ],
          [
           3,
           13
          ],
          [
           3,
           10
          ],
          [
           3,
           7
          ],
          [
           3,
           8
          ],
          [
           3,
           14
          ],
          [
           3,
           10
          ],
          [
           3,
           15
          ],
          [
           3,
           4
          ],
          [
           3,
           8
          ],
          [
           3,
           10
          ],
          [
           3,
           6
          ],
          [
           3,
           0
          ],
          [
           3,
           17
          ],
          [
           3,
           14
          ],
          [
           3,
           7
          ],
          [
           3,
           15
          ],
          [
           3,
           12
          ],
          [
           3,
           14
          ],
          [
           3,
           12
          ],
          [
           3,
           11
          ],
          [
           3,
           0
          ],
          [
           3,
           13
          ],
          [
           3,
           0
          ],
          [
           3,
           18
          ],
          [
           3,
           9
          ],
          [
           3,
           0
          ],
          [
           3,
           11
          ],
          [
           3,
           0
          ],
          [
           3,
           9
          ],
          [
           3,
           14
          ],
          [
           3,
           11
          ],
          [
           3,
           10
          ],
          [
           3,
           12
          ],
          [
           3,
           9
          ],
          [
           3,
           8
          ],
          [
           3,
           12
          ],
          [
           3,
           10
          ],
          [
           3,
           11
          ],
          [
           3,
           19
          ],
          [
           3,
           12
          ],
          [
           3,
           15
          ],
          [
           3,
           13
          ],
          [
           3,
           18
          ],
          [
           3,
           0
          ],
          [
           3,
           8
          ],
          [
           3,
           14
          ],
          [
           3,
           11
          ],
          [
           3,
           14
          ],
          [
           3,
           18
          ],
          [
           3,
           12
          ],
          [
           3,
           10
          ],
          [
           3,
           0
          ],
          [
           3,
           13
          ],
          [
           3,
           11
          ],
          [
           3,
           13
          ],
          [
           3,
           11
          ],
          [
           3,
           0
          ],
          [
           3,
           9
          ],
          [
           3,
           10
          ],
          [
           3,
           11
          ],
          [
           3,
           13
          ],
          [
           3,
           9
          ],
          [
           3,
           11
          ],
          [
           3,
           15
          ],
          [
           3,
           15
          ],
          [
           3,
           9
          ],
          [
           3,
           14
          ],
          [
           3,
           14
          ],
          [
           3,
           0
          ],
          [
           3,
           0
          ],
          [
           3,
           0
          ],
          [
           3,
           15
          ],
          [
           3,
           13
          ],
          [
           3,
           0
          ],
          [
           3,
           17
          ],
          [
           3,
           10
          ],
          [
           3,
           11
          ],
          [
           3,
           0
          ],
          [
           3,
           10
          ],
          [
           3,
           14
          ],
          [
           3,
           15
          ],
          [
           3,
           9
          ],
          [
           3,
           13
          ],
          [
           3,
           11
          ],
          [
           3,
           16
          ],
          [
           3,
           13
          ],
          [
           3,
           10
          ],
          [
           3,
           15
          ],
          [
           3,
           12
          ],
          [
           3,
           0
          ],
          [
           3,
           10
          ],
          [
           3,
           11
          ],
          [
           3,
           9
          ],
          [
           3,
           11
          ],
          [
           3,
           5
          ],
          [
           3,
           19
          ],
          [
           3,
           10
          ],
          [
           3,
           15
          ],
          [
           3,
           10
          ],
          [
           3,
           15
          ],
          [
           3,
           10
          ],
          [
           3,
           10
          ],
          [
           3,
           6
          ],
          [
           3,
           0
          ],
          [
           3,
           8
          ],
          [
           3,
           0
          ],
          [
           4,
           11
          ],
          [
           4,
           11
          ],
          [
           4,
           12
          ],
          [
           4,
           14
          ],
          [
           4,
           13
          ],
          [
           4,
           13
          ],
          [
           4,
           14
          ],
          [
           4,
           13
          ],
          [
           4,
           17
          ],
          [
           4,
           14
          ],
          [
           4,
           14
          ],
          [
           4,
           10
          ],
          [
           4,
           12
          ],
          [
           4,
           11
          ],
          [
           4,
           12
          ],
          [
           4,
           12
          ],
          [
           4,
           10
          ],
          [
           4,
           11
          ],
          [
           4,
           11
          ],
          [
           4,
           13
          ],
          [
           4,
           12
          ],
          [
           4,
           13
          ],
          [
           4,
           16
          ],
          [
           4,
           12
          ],
          [
           4,
           13
          ],
          [
           4,
           12
          ],
          [
           4,
           15
          ],
          [
           4,
           16
          ],
          [
           4,
           16
          ],
          [
           4,
           16
          ],
          [
           4,
           10
          ],
          [
           4,
           13
          ],
          [
           4,
           12
          ],
          [
           4,
           16
          ],
          [
           4,
           10
          ],
          [
           4,
           11
          ],
          [
           4,
           15
          ],
          [
           4,
           11
          ],
          [
           4,
           11
          ],
          [
           4,
           13
          ],
          [
           4,
           11
          ],
          [
           4,
           11
          ],
          [
           4,
           12
          ],
          [
           4,
           12
          ],
          [
           4,
           11
          ],
          [
           4,
           15
          ],
          [
           4,
           11
          ],
          [
           4,
           13
          ],
          [
           4,
           12
          ],
          [
           4,
           14
          ],
          [
           4,
           13
          ],
          [
           4,
           12
          ],
          [
           4,
           13
          ],
          [
           4,
           13
          ],
          [
           4,
           10
          ],
          [
           4,
           10
          ],
          [
           4,
           10
          ],
          [
           4,
           14
          ],
          [
           4,
           11
          ],
          [
           4,
           10
          ],
          [
           4,
           14
          ],
          [
           4,
           13
          ],
          [
           4,
           11
          ],
          [
           4,
           11
          ],
          [
           4,
           11
          ],
          [
           4,
           12
          ],
          [
           4,
           8
          ],
          [
           4,
           11
          ],
          [
           4,
           13
          ],
          [
           4,
           12
          ],
          [
           4,
           14
          ],
          [
           4,
           11
          ],
          [
           4,
           15
          ],
          [
           4,
           13
          ],
          [
           4,
           11
          ],
          [
           4,
           11
          ],
          [
           4,
           10
          ],
          [
           4,
           14
          ],
          [
           4,
           9
          ],
          [
           4,
           9
          ],
          [
           4,
           13
          ],
          [
           4,
           11
          ],
          [
           4,
           12
          ],
          [
           4,
           10
          ],
          [
           4,
           11
          ],
          [
           4,
           13
          ],
          [
           4,
           11
          ],
          [
           4,
           13
          ],
          [
           4,
           13
          ],
          [
           4,
           11
          ],
          [
           4,
           18
          ],
          [
           4,
           13
          ],
          [
           4,
           17
          ],
          [
           4,
           13
          ],
          [
           4,
           15
          ],
          [
           4,
           14
          ],
          [
           4,
           17
          ],
          [
           4,
           14
          ],
          [
           4,
           16
          ],
          [
           4,
           14
          ],
          [
           4,
           13
          ],
          [
           4,
           12
          ],
          [
           4,
           16
          ],
          [
           4,
           16
          ],
          [
           4,
           11
          ],
          [
           4,
           15
          ],
          [
           4,
           12
          ],
          [
           4,
           15
          ],
          [
           4,
           13
          ],
          [
           4,
           13
          ],
          [
           4,
           8
          ],
          [
           4,
           12
          ],
          [
           4,
           15
          ],
          [
           4,
           13
          ],
          [
           4,
           12
          ],
          [
           4,
           12
          ],
          [
           4,
           13
          ],
          [
           4,
           11
          ],
          [
           4,
           15
          ],
          [
           4,
           10
          ],
          [
           4,
           13
          ],
          [
           4,
           13
          ],
          [
           4,
           11
          ],
          [
           4,
           12
          ],
          [
           4,
           14
          ],
          [
           4,
           16
          ],
          [
           4,
           8
          ],
          [
           4,
           17
          ],
          [
           4,
           16
          ],
          [
           4,
           12
          ],
          [
           4,
           10
          ],
          [
           4,
           13
          ],
          [
           4,
           10
          ],
          [
           4,
           10
          ],
          [
           4,
           7
          ],
          [
           4,
           15
          ],
          [
           4,
           10
          ],
          [
           4,
           11
          ],
          [
           4,
           13
          ],
          [
           4,
           8
          ],
          [
           4,
           10
          ],
          [
           4,
           15
          ],
          [
           4,
           14
          ],
          [
           4,
           12
          ],
          [
           4,
           11
          ],
          [
           4,
           10
          ],
          [
           4,
           11
          ],
          [
           4,
           11
          ],
          [
           4,
           13
          ],
          [
           4,
           17
          ],
          [
           4,
           11
          ],
          [
           4,
           14
          ],
          [
           4,
           14
          ],
          [
           4,
           13
          ],
          [
           4,
           12
          ],
          [
           4,
           12
          ],
          [
           4,
           15
          ],
          [
           4,
           13
          ],
          [
           4,
           13
          ],
          [
           4,
           12
          ],
          [
           4,
           10
          ],
          [
           4,
           12
          ],
          [
           4,
           16
          ],
          [
           4,
           13
          ],
          [
           4,
           15
          ],
          [
           4,
           16
          ],
          [
           4,
           12
          ],
          [
           4,
           10
          ],
          [
           4,
           13
          ],
          [
           4,
           15
          ],
          [
           4,
           10
          ],
          [
           4,
           18
          ],
          [
           4,
           13
          ],
          [
           4,
           14
          ],
          [
           4,
           14
          ],
          [
           4,
           18
          ],
          [
           4,
           14
          ],
          [
           4,
           18
          ],
          [
           4,
           19
          ],
          [
           4,
           13
          ],
          [
           4,
           14
          ],
          [
           4,
           17
          ],
          [
           4,
           15
          ],
          [
           4,
           8
          ],
          [
           4,
           16
          ],
          [
           4,
           18
          ],
          [
           4,
           11
          ],
          [
           4,
           15
          ],
          [
           4,
           14
          ],
          [
           4,
           17
          ],
          [
           4,
           17
          ],
          [
           4,
           15
          ],
          [
           4,
           17
          ],
          [
           4,
           14
          ],
          [
           4,
           13
          ],
          [
           4,
           14
          ],
          [
           4,
           17
          ],
          [
           4,
           17
          ],
          [
           4,
           13
          ],
          [
           4,
           14
          ],
          [
           4,
           11
          ],
          [
           4,
           9
          ],
          [
           4,
           10
          ],
          [
           4,
           13
          ],
          [
           4,
           10
          ],
          [
           4,
           17
          ],
          [
           4,
           15
          ],
          [
           4,
           14
          ],
          [
           4,
           13
          ],
          [
           4,
           15
          ],
          [
           4,
           11
          ],
          [
           4,
           10
          ],
          [
           4,
           15
          ],
          [
           4,
           12
          ],
          [
           4,
           12
          ],
          [
           4,
           14
          ],
          [
           4,
           14
          ],
          [
           4,
           15
          ],
          [
           4,
           15
          ],
          [
           4,
           16
          ],
          [
           4,
           14
          ],
          [
           4,
           14
          ],
          [
           4,
           17
          ],
          [
           4,
           13
          ],
          [
           4,
           15
          ],
          [
           4,
           16
          ],
          [
           4,
           11
          ],
          [
           4,
           13
          ],
          [
           4,
           12
          ],
          [
           4,
           17
          ],
          [
           4,
           17
          ],
          [
           4,
           15
          ],
          [
           4,
           11
          ],
          [
           4,
           17
          ],
          [
           4,
           17
          ],
          [
           4,
           10
          ],
          [
           4,
           13
          ],
          [
           4,
           11
          ],
          [
           4,
           12
          ],
          [
           4,
           10
          ],
          [
           4,
           11
          ],
          [
           4,
           17
          ],
          [
           4,
           9
          ],
          [
           4,
           10
          ],
          [
           4,
           7
          ],
          [
           4,
           14
          ],
          [
           4,
           11
          ],
          [
           4,
           10
          ],
          [
           4,
           8
          ],
          [
           4,
           12
          ],
          [
           4,
           12
          ],
          [
           4,
           16
          ],
          [
           4,
           17
          ],
          [
           4,
           13
          ],
          [
           4,
           15
          ],
          [
           4,
           11
          ],
          [
           4,
           8
          ],
          [
           4,
           8
          ],
          [
           4,
           9
          ],
          [
           4,
           15
          ],
          [
           4,
           13
          ],
          [
           4,
           10
          ],
          [
           4,
           11
          ],
          [
           4,
           14
          ],
          [
           4,
           14
          ],
          [
           4,
           12
          ],
          [
           4,
           8
          ],
          [
           4,
           14
          ],
          [
           4,
           12
          ],
          [
           4,
           12
          ],
          [
           4,
           16
          ],
          [
           4,
           14
          ],
          [
           4,
           8
          ],
          [
           4,
           8
          ],
          [
           4,
           10
          ],
          [
           4,
           10
          ],
          [
           4,
           11
          ],
          [
           4,
           9
          ],
          [
           4,
           11
          ],
          [
           4,
           8
          ],
          [
           4,
           11
          ],
          [
           4,
           10
          ],
          [
           4,
           10
          ],
          [
           4,
           9
          ],
          [
           4,
           10
          ],
          [
           4,
           9
          ],
          [
           4,
           10
          ],
          [
           4,
           10
          ],
          [
           4,
           9
          ],
          [
           4,
           13
          ],
          [
           4,
           14
          ],
          [
           4,
           14
          ],
          [
           4,
           16
          ],
          [
           4,
           14
          ],
          [
           4,
           13
          ],
          [
           4,
           11
          ],
          [
           4,
           10
          ],
          [
           4,
           10
          ],
          [
           4,
           18
          ],
          [
           4,
           17
          ],
          [
           4,
           10
          ],
          [
           4,
           7
          ],
          [
           4,
           8
          ],
          [
           4,
           7
          ],
          [
           4,
           10
          ],
          [
           4,
           16
          ],
          [
           4,
           15
          ],
          [
           4,
           8
          ],
          [
           4,
           8
          ],
          [
           4,
           10
          ],
          [
           4,
           8
          ],
          [
           4,
           8
          ],
          [
           4,
           14
          ],
          [
           4,
           9
          ],
          [
           4,
           11
          ],
          [
           4,
           16
          ],
          [
           4,
           11
          ],
          [
           4,
           10
          ],
          [
           4,
           11
          ],
          [
           4,
           11
          ],
          [
           4,
           12
          ],
          [
           4,
           16
          ],
          [
           4,
           11
          ],
          [
           4,
           18
          ],
          [
           4,
           10
          ],
          [
           4,
           13
          ],
          [
           4,
           10
          ],
          [
           4,
           12
          ],
          [
           4,
           7
          ],
          [
           4,
           10
          ],
          [
           4,
           10
          ],
          [
           4,
           8
          ],
          [
           4,
           7
          ],
          [
           4,
           0
          ],
          [
           4,
           11
          ],
          [
           4,
           8
          ],
          [
           4,
           0
          ],
          [
           4,
           8
          ],
          [
           4,
           9
          ],
          [
           4,
           10
          ],
          [
           4,
           7
          ],
          [
           4,
           14
          ],
          [
           4,
           13
          ],
          [
           4,
           14
          ],
          [
           4,
           18
          ],
          [
           4,
           18
          ],
          [
           4,
           0
          ],
          [
           4,
           10
          ],
          [
           4,
           13
          ],
          [
           4,
           0
          ],
          [
           4,
           10
          ],
          [
           4,
           0
          ],
          [
           4,
           18
          ],
          [
           4,
           12
          ],
          [
           4,
           11
          ],
          [
           4,
           12
          ],
          [
           4,
           0
          ],
          [
           4,
           15
          ],
          [
           4,
           10
          ],
          [
           4,
           12
          ],
          [
           4,
           15
          ],
          [
           4,
           18
          ],
          [
           4,
           15
          ],
          [
           4,
           13
          ],
          [
           4,
           15
          ],
          [
           4,
           13
          ],
          [
           4,
           9
          ],
          [
           4,
           10
          ],
          [
           4,
           0
          ],
          [
           4,
           12
          ],
          [
           4,
           9
          ],
          [
           4,
           17
          ],
          [
           4,
           12
          ],
          [
           4,
           9
          ],
          [
           4,
           14
          ],
          [
           4,
           16
          ],
          [
           4,
           9
          ],
          [
           4,
           15
          ],
          [
           4,
           11
          ],
          [
           4,
           10
          ],
          [
           4,
           10
          ],
          [
           4,
           16
          ],
          [
           4,
           9
          ]
         ],
         "hovertemplate": "0=%{x}<br>1=%{y}<br>category=%{customdata[0]}<br>G3=%{customdata[1]}<br>Cluster=%{marker.color}<extra></extra>",
         "legendgroup": "",
         "marker": {
          "color": [
           1,
           0,
           0,
           0,
           0,
           0,
           0,
           1,
           0,
           0,
           0,
           0,
           0,
           0,
           0,
           0,
           1,
           0,
           0,
           0,
           0,
           0,
           0,
           1,
           1,
           0,
           0,
           0,
           0,
           1,
           0,
           0,
           0,
           0,
           0,
           0,
           1,
           1,
           0,
           0,
           0,
           0,
           1,
           1,
           1,
           0,
           1,
           0,
           0,
           0,
           0,
           1,
           1,
           1,
           1,
           0,
           0,
           0,
           2,
           1,
           1,
           1,
           0,
           0,
           1,
           0,
           0,
           0,
           0,
           1,
           0,
           0,
           0,
           0,
           1,
           0,
           0,
           1,
           0,
           0,
           0,
           1,
           0,
           0,
           0,
           1,
           0,
           0,
           0,
           0,
           0,
           0,
           1,
           0,
           1,
           0,
           1,
           0,
           0,
           0,
           1,
           1,
           0,
           0,
           1,
           1,
           1,
           1,
           0,
           0,
           1,
           0,
           1,
           0,
           1,
           1,
           0,
           0,
           1,
           0,
           0,
           0,
           1,
           0,
           1,
           1,
           0,
           0,
           1,
           0,
           0,
           0,
           0,
           1,
           1,
           0,
           0,
           1,
           0,
           1,
           0,
           2,
           1,
           2,
           1,
           0,
           1,
           1,
           1,
           1,
           0,
           0,
           0,
           2,
           0,
           2,
           0,
           0,
           0,
           0,
           1,
           0,
           0,
           1,
           1,
           0,
           1,
           1,
           0,
           1,
           0,
           0,
           0,
           0,
           0,
           0,
           0,
           0,
           0,
           0,
           0,
           1,
           1,
           0,
           0,
           0,
           0,
           1,
           0,
           0,
           0,
           0,
           0,
           0,
           0,
           1,
           0,
           0,
           0,
           0,
           1,
           0,
           0,
           0,
           0,
           0,
           0,
           0,
           0,
           0,
           0,
           1,
           0,
           0,
           0,
           0,
           0,
           1,
           0,
           0,
           0,
           0,
           0,
           0,
           0,
           0,
           0,
           0,
           0,
           1,
           1,
           0,
           1,
           1,
           0,
           0,
           0,
           0,
           1,
           0,
           1,
           0,
           1,
           0,
           1,
           1,
           0,
           1,
           0,
           0,
           1,
           0,
           0,
           0,
           0,
           0,
           0,
           1,
           0,
           0,
           2,
           1,
           0,
           0,
           1,
           1,
           0,
           1,
           0,
           0,
           0,
           1,
           0,
           0,
           0,
           0,
           1,
           0,
           0,
           0,
           0,
           0,
           0,
           1,
           0,
           0,
           0,
           1,
           0,
           0,
           1,
           1,
           0,
           0,
           0,
           1,
           1,
           1,
           1,
           1,
           0,
           0,
           0,
           0,
           0,
           0,
           0,
           0,
           2,
           1,
           1,
           1,
           0,
           1,
           0,
           0,
           1,
           0,
           1,
           1,
           0,
           1,
           0,
           0,
           0,
           0,
           0,
           0,
           0,
           0,
           0,
           0,
           0,
           1,
           1,
           0,
           0,
           0,
           1,
           0,
           1,
           2,
           1,
           0,
           0,
           0,
           0,
           0,
           0,
           0,
           0,
           0,
           0,
           0,
           1,
           0,
           0,
           0,
           0,
           0,
           0,
           1,
           0,
           1,
           0,
           0,
           1,
           1,
           0,
           2,
           1,
           1,
           1,
           0,
           0,
           0,
           0,
           0,
           1,
           0,
           1,
           0,
           1,
           0,
           0,
           1,
           0,
           0,
           0,
           0,
           0,
           1,
           0,
           0,
           1,
           1,
           0,
           0,
           0,
           0,
           0,
           0,
           1,
           0,
           0,
           0,
           1,
           1,
           1,
           0,
           0,
           1,
           0,
           0,
           0,
           0,
           0,
           0,
           0,
           0,
           0,
           1,
           0,
           0,
           0,
           0,
           0,
           0,
           1,
           1,
           0,
           1,
           1,
           1,
           0,
           0,
           0,
           0,
           1,
           0,
           0,
           0,
           0,
           0,
           0,
           0,
           0,
           0,
           0,
           0,
           0,
           1,
           0,
           1,
           0,
           1,
           0,
           0,
           1,
           0,
           0,
           0,
           1,
           0,
           0,
           1,
           0,
           0,
           1,
           2,
           1,
           1,
           1,
           0,
           0,
           0,
           0,
           1,
           1,
           0,
           0,
           1,
           1,
           0,
           0,
           0,
           0,
           0,
           0,
           1,
           0,
           2,
           0,
           1,
           1,
           0,
           1,
           0,
           0,
           0,
           0,
           0,
           0,
           0,
           0,
           1,
           0,
           2,
           1,
           1,
           0,
           0,
           1,
           0,
           0,
           0,
           0,
           0,
           0,
           0,
           1,
           1,
           0,
           0,
           0,
           0,
           0,
           0,
           0,
           0,
           1,
           0,
           1,
           0,
           0,
           0,
           0,
           0,
           0,
           0,
           2,
           1,
           1,
           1,
           0,
           0,
           2,
           0,
           0,
           1,
           0,
           1,
           1,
           2,
           0,
           1,
           1,
           1,
           1,
           0,
           1,
           0,
           2,
           0,
           0,
           0,
           0,
           0,
           0,
           1,
           1,
           1,
           1,
           2,
           0,
           0,
           1,
           0,
           2,
           0,
           0,
           1,
           0,
           1,
           0,
           0,
           0,
           1,
           2,
           1,
           0,
           0,
           0,
           0,
           1,
           0,
           1,
           1,
           0,
           1,
           0,
           1,
           0,
           0,
           1,
           1,
           0,
           2,
           2,
           1,
           2,
           0,
           1,
           0,
           0,
           2,
           1,
           0,
           0,
           0,
           1,
           0,
           1,
           0,
           0,
           0,
           1,
           1,
           0,
           1,
           0,
           0,
           0,
           0,
           1,
           0,
           0,
           0,
           0,
           0,
           0,
           0,
           0,
           0,
           0,
           0,
           1,
           0,
           1,
           1,
           0,
           0,
           0,
           0,
           0,
           1,
           0,
           1,
           0,
           0,
           0,
           0,
           0,
           1,
           0,
           0,
           0,
           0,
           0,
           1,
           1,
           0,
           0,
           1,
           0,
           0,
           1,
           1,
           1,
           0,
           1,
           0,
           0,
           0,
           0,
           0,
           0,
           0,
           0,
           0,
           0,
           0,
           0,
           0,
           0,
           0,
           0,
           1,
           0,
           0,
           0,
           1,
           0,
           0,
           0,
           1,
           0,
           0,
           1,
           0,
           0,
           0,
           0,
           0,
           0,
           1,
           1,
           0,
           0,
           0,
           1,
           0,
           0,
           0,
           0,
           0,
           0,
           1,
           1,
           1,
           0,
           1,
           1,
           0,
           0,
           1,
           1,
           0,
           1,
           0,
           2,
           0,
           0,
           0,
           0,
           0,
           1,
           1,
           0,
           0,
           1,
           0,
           0,
           0,
           0,
           0,
           0,
           0,
           2,
           1,
           1,
           1,
           0,
           1,
           2,
           0,
           0,
           0,
           0,
           2,
           1,
           1,
           0,
           0,
           0,
           0,
           0,
           0,
           1,
           0,
           1,
           0,
           0,
           0,
           1,
           0,
           0,
           0,
           0,
           0,
           0,
           0,
           0,
           1,
           1,
           1,
           0,
           1,
           0,
           0,
           1,
           1,
           0,
           0,
           0,
           1,
           1,
           1,
           0,
           0,
           0,
           0,
           0,
           0,
           0,
           0,
           1,
           0,
           0,
           0,
           1,
           1,
           1,
           1,
           0,
           1,
           1,
           1,
           1,
           0,
           1,
           0,
           0,
           0,
           1,
           1,
           0,
           0,
           0,
           0,
           0,
           0,
           0,
           0,
           0,
           0,
           0,
           0,
           0,
           0,
           0,
           0,
           1,
           0,
           1,
           0,
           0,
           0,
           1,
           0,
           0,
           1,
           0,
           0,
           0,
           0,
           0,
           0,
           0,
           0,
           0,
           0,
           0,
           0,
           1,
           0,
           1,
           1,
           0,
           0,
           0,
           1,
           0,
           0,
           0,
           1,
           0,
           1,
           1,
           0,
           0,
           0,
           1,
           0,
           0,
           1,
           0,
           0,
           1,
           0,
           1,
           0,
           0,
           0,
           0,
           0,
           0,
           0,
           0,
           0,
           0,
           0,
           0,
           1,
           0,
           0,
           0,
           0,
           0,
           0,
           0,
           0,
           0,
           0,
           0,
           0,
           0,
           1,
           0,
           0,
           0,
           0,
           0,
           0,
           0,
           0,
           0,
           0,
           0,
           0,
           1,
           0,
           0,
           1,
           1,
           0,
           1,
           0,
           0,
           0,
           0,
           0,
           0,
           0,
           0,
           0,
           0,
           1,
           0,
           0,
           0,
           0,
           1,
           0,
           0,
           1,
           0,
           0,
           1,
           1,
           0,
           0,
           0,
           0,
           0,
           0,
           0,
           0,
           1,
           0,
           0,
           0,
           0,
           0,
           0,
           0,
           0,
           0,
           0,
           1,
           1,
           1,
           0,
           0,
           0,
           0,
           0,
           0,
           0,
           0,
           0,
           0,
           0,
           0,
           0,
           0,
           0,
           0,
           0,
           0,
           0,
           0,
           0,
           0,
           0,
           0,
           0,
           0,
           0,
           0,
           0,
           0,
           0,
           0,
           1,
           0,
           0,
           0,
           0,
           0,
           1,
           0,
           0,
           0,
           0,
           0,
           0,
           1,
           0,
           0,
           0,
           0,
           0,
           1
          ],
          "coloraxis": "coloraxis",
          "symbol": "circle"
         },
         "mode": "markers",
         "name": "",
         "showlegend": false,
         "type": "scattergl",
         "x": [
          5.589042170709471,
          -4.450918257232212,
          -4.436955599006424,
          -4.423481399230791,
          -2.3718130638188057,
          -2.3972915925709914,
          -4.477828306694588,
          11.600493535782286,
          -0.3819932800418666,
          -4.422857022835068,
          -4.3872176049693685,
          -2.449055794389828,
          -4.450918257232212,
          -2.457814852117285,
          -0.39668654328481523,
          -0.39738745897784256,
          11.639376249137745,
          -4.3872176049693685,
          -4.397378494082881,
          -4.41741127576973,
          -4.426871249190215,
          -4.436849370384988,
          -2.402006734619168,
          2.6163316686826796,
          3.615971547281392,
          -2.376528205866982,
          -4.483274053759924,
          -0.40283320604318007,
          -2.4181404380368248,
          1.597125087794348,
          -0.3887435493363416,
          -2.488008522917647,
          -0.3772484486695573,
          -4.46243412775861,
          -4.416085983680978,
          -2.4739188662108096,
          1.6066074402677577,
          3.535415506048251,
          -2.4778838472532096,
          -2.4376758418089994,
          -0.4437356030554751,
          -0.45308934785452415,
          7.538434556335865,
          13.62233953499877,
          1.5522605328039623,
          -2.3966672161752673,
          9.634756973496419,
          -4.381147481508307,
          -0.3772484486695573,
          -4.38578608425918,
          -2.416806226483553,
          1.648316981594518,
          1.611352271640067,
          5.558848499909109,
          3.5044912302307267,
          -2.371082458801645,
          -2.38791707791233,
          -4.432210767634116,
          15.563088010983664,
          1.5965527797756813,
          1.5462966379643381,
          13.623155598777755,
          -4.385055479242019,
          -4.435304685589899,
          3.636917701904144,
          -4.401996326974141,
          -4.385765314399566,
          -4.486715972096406,
          -4.40139272043803,
          3.561814343199801,
          -4.428683023969786,
          -4.386593228573644,
          -4.434022542413686,
          -4.44348251583417,
          1.5312623098041538,
          -4.404529787306352,
          -2.4328337012797734,
          3.50912091351708,
          -2.4685793477669096,
          -0.39139017375345375,
          -4.466228961407422,
          1.5881193433759977,
          -4.466576961788121,
          -2.4570842471001244,
          -4.449531869435619,
          11.541029066945475,
          -0.436233958884225,
          -4.358656642090468,
          -2.523571401486042,
          -4.3656470739508935,
          -0.38722656986433,
          -0.4067412037768916,
          5.580312802306146,
          -0.392047940533943,
          5.599827436218709,
          -2.4067515659914767,
          7.590377825012808,
          -2.4725081153602337,
          -4.4664483541137585,
          -0.47331381692463204,
          7.529336417692228,
          3.570247779599484,
          -4.4362249939892635,
          -0.37190893022565685,
          3.596533452666135,
          8.645796131785506,
          10.558924723150477,
          8.610602023457423,
          -4.451648862249373,
          -2.4322300947436624,
          9.512385162315079,
          -0.47455365025156215,
          9.630041831448242,
          -2.355688279865668,
          13.485466147957743,
          5.56017379199786,
          -0.4692141318076617,
          -4.445728116322288,
          9.609902821139956,
          -2.3718130638188057,
          -4.379715960798118,
          -4.386593228573644,
          1.52133625698644,
          -0.44311122665975144,
          11.585694043917899,
          3.5915627044625467,
          -4.502712148375181,
          -4.409464322060864,
          1.5817532879112965,
          -0.4405037913947858,
          -4.4933376337165205,
          -4.492627798558972,
          -2.4813868612975334,
          7.578161038793382,
          3.536740798137002,
          -2.4027373396363285,
          -3.4534197345012365,
          8.630996639921122,
          -2.446923357986611,
          5.601258956928897,
          -2.5000217713587194,
          17.637109292108583,
          3.6112267159090834,
          25.557792734641723,
          14.572908105805434,
          -2.4926471256685194,
          1.5421761829877534,
          4.620326567928283,
          6.573882557443799,
          3.549484392895476,
          -0.41815084568185323,
          0.6109817880241932,
          -4.381984315146904,
          15.592686994712432,
          -4.452953384478512,
          33.6365374905979,
          -4.422284714816402,
          -1.4885180218529102,
          -1.3768883272682695,
          -1.3955958168663662,
          3.556986037066725,
          -2.4461927529694503,
          -4.365278303710582,
          6.600091691213144,
          4.590026668506482,
          -4.375000818749942,
          5.58159494548236,
          3.537511729002391,
          -2.41198485581394,
          2.551644805247263,
          -0.48210710410010904,
          -0.3817808227989934,
          -0.5088677760285085,
          -2.498221480408219,
          -0.4483534359467338,
          -4.376538568081568,
          -1.4728682367615211,
          -0.35640852266824385,
          0.5163568599438264,
          -2.442284755235739,
          -4.502946984670981,
          9.58272824605765,
          6.559505996064104,
          -1.4412133559268376,
          -1.4828618015457566,
          -4.463135043451639,
          0.5068968865233421,
          1.5857675142664442,
          -4.450918257232212,
          -4.441670741054601,
          -4.428196541278968,
          -4.375807963064407,
          -4.401286491816593,
          -4.477828306694588,
          -2.389749622551513,
          1.6125713351073827,
          -4.422857022835068,
          -4.3872176049693685,
          -4.448335551587253,
          -2.4516385000347873,
          3.535309277426814,
          -4.399961199727841,
          -2.391952074127091,
          -0.3563022940468068,
          -4.3872176049693685,
          -2.3980987368854563,
          -4.41741127576973,
          -4.426871249190215,
          -0.4430049980383144,
          -4.401286491816593,
          -0.38258796711345777,
          3.615971547281392,
          -4.375807963064407,
          -4.483274053759924,
          -2.4021129632406044,
          -0.42357582288757634,
          -0.4126843287569022,
          3.609815965058509,
          -4.487288280115072,
          -4.375807963064407,
          -2.4678695126093615,
          -4.416085983680978,
          -4.473198623408234,
          -4.395946973372692,
          -4.46170352274145,
          -4.477163604450634,
          -4.441670741054601,
          -2.447730502301076,
          -2.452369105051948,
          1.5253504833415876,
          1.6266609918142203,
          -2.446298981590887,
          1.6066074402677577,
          7.630762074250816,
          -4.381147481508307,
          -2.3718130638188057,
          -4.3905012263073555,
          -0.4175264692861287,
          3.6428815967437664,
          -0.38792748555735823,
          5.558848499909109,
          -0.49406828416412285,
          1.6274770555932045,
          -0.3886373207149054,
          1.565628503958159,
          9.565248739391388,
          -2.402006734619168,
          1.5415814959161622,
          -0.3718027016042207,
          -2.3857757220445936,
          3.6322025598559673,
          -0.43232596115051347,
          -0.5002238663870076,
          -2.4027165697767154,
          -2.3864855572021413,
          -2.446298981590887,
          -4.476186312742581,
          1.5964465511542452,
          -4.375807963064407,
          -0.45780448990270006,
          17.53180532714041,
          11.607644829005755,
          -4.465611520475161,
          -4.454012175187996,
          1.5312623098041538,
          1.5617205062244475,
          -4.432113458477199,
          9.538549163170831,
          -0.46929959056948434,
          -4.394664830196479,
          -4.4392126833236105,
          3.525075550076629,
          -0.41116041382142665,
          -2.477826863944521,
          -2.446554587746299,
          -4.4811208474970945,
          5.56424911406085,
          -4.434793473279075,
          -0.37062678704944396,
          -4.527566300731643,
          -4.37036221599907,
          -4.3905012263073555,
          -0.4067412037768916,
          3.581033045108722,
          -0.38733279848576707,
          -0.3980118353735671,
          -4.410746465237078,
          1.5925385534205336,
          -4.476503014605835,
          -4.471163496161934,
          1.5259659402727923,
          11.523180790038902,
          -4.426871249190215,
          -4.4362249939892635,
          -0.37190893022565685,
          11.588937339407659,
          10.640360746934755,
          5.545480528754911,
          5.596437586259285,
          4.576699023200515,
          -4.4362249939892635,
          -2.488008522917647,
          -4.477828306694588,
          -4.364916468933733,
          -4.359683179111269,
          -2.5134870516698333,
          -4.4362249939892635,
          -4.472488788250687,
          21.539462980178897,
          1.6058002959532933,
          11.537980281903286,
          3.612063549547681,
          -4.375807963064407,
          2.6177631893928686,
          -0.3833185721306185,
          -2.497362267716696,
          2.520976135585152,
          -2.442390983857176,
          7.58713452952305,
          3.581033045108722,
          -4.507427290423358,
          3.5771250473750094,
          -0.4069968099323038,
          -0.42997413204096,
          -2.4940578765190953,
          -4.492627798558972,
          -4.480666618494959,
          -0.4511828282825858,
          -0.4189579899963176,
          -2.4610984734552726,
          -4.467859104964335,
          -2.407452481684505,
          -2.453779855902524,
          3.546200771557487,
          1.6288023476819573,
          -4.450918257232212,
          -0.4012954567115541,
          -2.5047369134068957,
          1.6381560924810055,
          -4.390607454928793,
          5.525341518446627,
          17.55595856380385,
          13.562738567852898,
          -4.496642024914121,
          -4.460378230652697,
          -4.381147481508307,
          -2.4275914919927906,
          -4.452349777942401,
          -4.421425502124879,
          -4.391932747017544,
          -4.386699457195081,
          -4.487543886270484,
          -4.431894065770862,
          -4.432814374170227,
          4.5861186707727715,
          -2.349618156404607,
          -4.375807963064407,
          -4.394515452662503,
          -2.4408532345255503,
          -4.440757368118699,
          -4.431489082081475,
          1.5253504833415876,
          -4.375807963064407,
          1.6018922982195818,
          -0.40817272448708053,
          -4.379715960798118,
          6.545120407353625,
          4.622382465034194,
          -2.3926529898201196,
          16.51685474436649,
          5.5656195390631975,
          8.5697724646818,
          5.5306810368905275,
          0.6055568108184701,
          -4.481842533049735,
          -4.486460365940994,
          -0.4987068869149951,
          -4.425439728480026,
          2.5720394217109606,
          -0.3872058000047165,
          3.510658662848705,
          -4.416085983680978,
          3.5254581547130908,
          -4.482552368207283,
          -0.46705200608031117,
          1.5005936401420437,
          -4.457073839455097,
          -3.462773479300285,
          -4.40342784768433,
          -0.48328301865488577,
          -2.440959463146987,
          6.579952680904858,
          -4.491451884004196,
          -4.3906595233058505,
          7.551275718951015,
          3.6280821048793825,
          -2.431033410329273,
          -4.42960333236915,
          -4.4927340271804095,
          -2.365636711736308,
          -4.381147481508307,
          -4.451734321011197,
          3.602497347505759,
          -4.48596298802632,
          -2.4826690044737467,
          -4.375914191685844,
          6.524377790509229,
          3.5509366834652774,
          6.519535649980002,
          -2.3449392278055066,
          -2.463239829323009,
          3.6171474618361685,
          -4.436331222610701,
          -4.456470232918986,
          -4.431616080562524,
          -2.4816424674529456,
          -0.5243771030504405,
          -0.47854710674709633,
          -4.451521863768323,
          -4.523085994979266,
          -4.485750530783447,
          1.4951478930767061,
          -4.468114711119747,
          -2.4260537426611646,
          -4.485750530783447,
          -2.4868326083628705,
          -4.447265865653913,
          -0.42835686770896064,
          4.617963254989659,
          1.5361357488508247,
          -0.45169404059341023,
          7.504226659180354,
          3.5717855289311107,
          3.5164524102947414,
          -0.40689058131086675,
          -4.45636400429755,
          -0.48210710410010904,
          -1.3606573146936953,
          3.5360309629794546,
          0.6379980661080049,
          -0.4987923456768186,
          -0.3712511634451676,
          -2.508147533225933,
          -4.446912950341583,
          -4.3812537101297435,
          -1.4775833788096975,
          -0.36112366471641977,
          -4.481842533049735,
          -0.4430049980383144,
          -4.502946984670981,
          -4.412230054324325,
          1.5577062798692998,
          -0.46457552905678945,
          1.6267672204356574,
          -0.49808251051927144,
          5.525275615673419,
          -2.4175368315007137,
          -0.4296459463486375,
          1.6374462573234583,
          -4.371092821016231,
          -0.48338924727632193,
          -0.3718027016042207,
          1.6320859690199443,
          -0.4343610883968134,
          -2.422876349944614,
          9.558923009774915,
          -4.474523915496987,
          -2.4027373396363285,
          3.5178502819204045,
          20.545162620024087,
          9.549123955438251,
          3.600441450399847,
          7.601163090522046,
          -2.3605527994478197,
          -2.452369105051948,
          -2.4120910844353767,
          -4.360307555506993,
          1.5972536954687095,
          3.536116421741278,
          -4.402017096833753,
          -2.411466708039653,
          1.621427701991757,
          1.512088740808828,
          -0.48328301865488577,
          -2.3865063270617544,
          -4.3905012263073555,
          -2.402006734619168,
          -0.45308934785452415,
          -2.4416900681641476,
          7.523189754933863,
          -2.465517683499808,
          49.56918260269767,
          -4.446309343805472,
          7.594392051367956,
          5.570334681111374,
          -2.508147533225933,
          1.6532515163490311,
          -0.45306857799490974,
          -0.4175264692861287,
          -4.4113708416328015,
          -0.3817808227989934,
          -0.4638538435041477,
          -4.4113708416328015,
          -2.4822236949361307,
          -2.456986937943207,
          1.632816574037105,
          -4.369661300306042,
          21.58069752264391,
          5.5742634487046985,
          3.545363937918891,
          -0.3563022940468068,
          -4.4056625529485895,
          1.5518986980271139,
          -2.4718837389645096,
          -2.4175368315007137,
          -4.446203115184036,
          -4.40673223888193,
          -2.5080864375180916,
          -4.380333401730379,
          -4.496642024914121,
          7.5447602859523375,
          11.582060071632133,
          -4.375807963064407,
          -4.405811930482566,
          -4.386593228573644,
          -2.3772588108841424,
          -2.4919165206513587,
          -4.508051666819082,
          -4.415421281437026,
          -2.483293380869471,
          3.5905764932899746,
          -4.398088329240429,
          1.5536469206005563,
          -4.406031323188902,
          -4.419399294343098,
          -4.3872176049693685,
          -4.4032044952176,
          -0.3965803146633782,
          -2.446923357986611,
          -4.4382601212355635,
          51.56374721784692,
          9.558002701375552,
          1.5817532879112965,
          5.56017379199786,
          -4.496642024914121,
          -4.426871249190215,
          19.642203566611656,
          -4.392557123413268,
          -2.375096685156793,
          1.554940547605839,
          -0.49397097500720566,
          13.526368544970039,
          1.5677609403613753,
          23.60387491034936,
          0.5781395088056636,
          5.594381689153371,
          1.489077769615645,
          1.5904826563146202,
          5.585027944354323,
          -4.440863596740136,
          7.602305355992298,
          -2.4267843476783253,
          17.638135829129382,
          -1.4386395697463978,
          -0.45308934785452415,
          -2.450313207946035,
          -4.481376453652507,
          -2.4585157678103133,
          -4.386593228573644,
          11.548403712635677,
          5.570959057507098,
          5.52523528982519,
          9.604350845453183,
          15.494830254971378,
          -2.494164105140532,
          -4.4663421254923215,
          1.591807948403373,
          -4.4785589117117475,
          16.601099390627013,
          -0.4182363044436759,
          -4.451648862249373,
          3.636811473282707,
          -4.454932483587361,
          10.625857187074011,
          -0.4220588434155639,
          -2.5040359977138675,
          -2.4120910844353767,
          1.5516361564082377,
          70.52587440678352,
          10.634765622335442,
          -3.5037821049340168,
          -0.4926367634539339,
          -0.44157347732812546,
          0.5465505307441889,
          1.5059123887263297,
          -4.396677578389853,
          7.52436566948864,
          1.5400348271200164,
          -4.360307555506993,
          5.621397967237183,
          -4.391231831324516,
          9.635275121270706,
          -4.4113708416328015,
          -4.436955599006424,
          3.590938328066823,
          13.502065930772629,
          -4.45589792490032,
          15.48938450790604,
          17.565651389519076,
          9.519269365554068,
          35.559793580691625,
          -4.471787872557659,
          4.616312341573133,
          -4.380446565815279,
          -2.3663673167534687,
          18.595039629380537,
          7.527819438220215,
          -1.4635144919624725,
          -3.462063644142737,
          -4.496642024914121,
          2.6318320762400935,
          -0.3725333066213814,
          2.5760536480661083,
          -4.405300718171741,
          -4.45636400429755,
          -4.456967610833661,
          11.61452209678128,
          7.543170468243654,
          -4.442295117450325,
          2.5813931665100087,
          -0.432950337546238,
          -0.4519134332997474,
          -4.467404875962199,
          -0.43766547959441393,
          2.555914637757823,
          -4.396571349768417,
          -4.411350071773189,
          -0.3725333066213814,
          -2.4376550719493864,
          -4.507427290423358,
          -4.431489082081475,
          -4.426871249190215,
          -4.360307555506993,
          -4.48799811527262,
          -4.497628236086693,
          -4.426170333497187,
          5.619860217905558,
          -0.42810126155354844,
          3.529366152446803,
          9.529346779906813,
          -4.37036221599907,
          -2.508147533225933,
          -0.3970915269742026,
          -0.37787282506528186,
          -4.400691804745001,
          12.542335302550176,
          -2.458418458653396,
          2.6210468107308555,
          -4.441820118588576,
          -4.440863596740136,
          -4.503053213292418,
          -0.3725125367617679,
          -2.497362267716696,
          1.4904119811689167,
          -4.421531730746315,
          -4.432920602791664,
          -2.361113257071392,
          -2.376528205866982,
          -4.481948761671172,
          1.6274770555932045,
          5.625930341366619,
          -2.4336408455942387,
          -2.4275914919927906,
          1.5360295202293885,
          -0.47596440110213667,
          -2.407452481684505,
          3.5131351398722277,
          11.537874053281849,
          9.549123955438251,
          -0.39811806399500416,
          1.6033238189297707,
          -2.371082458801645,
          -4.45636400429755,
          -4.416085983680978,
          -4.36502269755517,
          -4.405300718171741,
          -2.4664379918991726,
          -4.40673223888193,
          -2.4067515659914767,
          -4.376411569600518,
          -4.485750530783447,
          -4.481842533049735,
          -4.3905012263073555,
          -4.3905012263073555,
          -2.402006734619168,
          -4.45636400429755,
          -4.445684967409749,
          1.5253504833415876,
          -2.4865770022074583,
          -0.4175264692861287,
          -3.4513846072549366,
          9.593671808565382,
          -0.4322197325290773,
          -2.508147533225933,
          -0.3718027016042207,
          1.5462111792025146,
          -0.4175264692861287,
          -2.416806226483553,
          1.612783792350256,
          -4.462413357898997,
          -2.416806226483553,
          -0.4934735970925317,
          -4.460981837188808,
          -0.3664631831603202,
          -2.375096685156793,
          11.579583594608609,
          5.5742634487046985,
          -0.45791071852413623,
          -2.3602971932924075,
          -0.41763269790756485,
          7.549737969619388,
          -4.471163496161934,
          -2.42225197354889,
          -4.450918257232212,
          -4.40673223888193,
          -4.517895854069342,
          -4.40139272043803,
          5.56771576201734,
          3.5151702671185276,
          1.5011972466781538,
          -2.4516385000347873,
          7.583500557237283,
          7.554580110148615,
          -0.3772484486695573,
          -4.492012341627768,
          5.56017379199786,
          3.4944276502741314,
          -0.4283117347953658,
          1.61124604301863,
          -2.4759411142321963,
          19.558436483577438,
          -2.3819739529323187,
          -0.4926367634539339,
          -4.512766808867259,
          -4.492627798558972,
          -2.437200842947251,
          1.510550991477202,
          1.5260721688942294,
          -2.428322097009951,
          -4.398088329240429,
          1.5536469206005563,
          -4.410746465237078,
          -4.4241144363912746,
          -4.391932747017544,
          -4.434793473279075,
          -4.399854971106404,
          -4.450918257232212,
          -4.4382601212355635,
          27.572390131477817,
          3.555448287735098,
          5.580312802306146,
          1.5616142776030104,
          -4.496642024914121,
          3.570247779599484,
          25.640042838203932,
          -4.397272265461445,
          -2.375096685156793,
          -0.44905435163976204,
          -4.497245631450232,
          16.525288180766175,
          1.5630457983131993,
          9.608916609967384,
          -2.4570842471001244,
          -0.40817272448708053,
          -2.514196886827381,
          -4.41207175732583,
          -0.4175264692861287,
          -4.445578738788312,
          1.5997509423518457,
          -2.4314994897265017,
          11.61452209678128,
          -0.4437148331958616,
          -4.45636400429755,
          -4.44959296514346,
          7.503772430178218,
          -4.457795525007739,
          -0.3880337141787944,
          -0.45780448990270006,
          -2.4261599712826016,
          -4.471163496161934,
          -4.390607454928793,
          -0.4994078026080233,
          -4.4362249939892635,
          13.58796149044967,
          11.526833181617201,
          9.578510481924148,
          -0.4598396171489991,
          5.488971495563767,
          -0.45637296919251114,
          -2.494164105140532,
          9.569369194367972,
          3.551178455224539,
          -0.49808251051927144,
          -0.4343610883968134,
          -2.39338359483728,
          5.57486705524081,
          5.4829221419623195,
          5.525341518446627,
          -0.4933465986114811,
          -2.4664379918991726,
          -2.411466708039653,
          -4.45636400429755,
          -2.406020960974316,
          -0.5094713825646187,
          -0.45851432506024725,
          -2.483994296562499,
          3.5306706746759424,
          -2.3967734447967044,
          -2.417516061641101,
          -4.45636400429755,
          3.6320963312345302,
          7.54074605959719,
          11.599722604916897,
          5.571065286128535,
          -2.508751139762044,
          3.54752606364624,
          1.5817532879112965,
          1.5469210143600618,
          10.54748169086075,
          -2.3605527994478197,
          3.54609454293605,
          -4.425695334635439,
          -2.5088573683834805,
          -4.4911962778487835,
          7.555545551461574,
          5.498325240362815,
          -4.45636400429755,
          -4.496642024914121,
          -4.40139272043803,
          -4.462519586520434,
          -2.3657429403577446,
          -4.379715960798118,
          -4.395946973372692,
          -4.354968037063093,
          -4.36502269755517,
          -4.416085983680978,
          -4.441670741054601,
          -2.4375488433279497,
          -2.47722325740841,
          -2.453176249366413,
          -2.371082458801645,
          -2.3858819506660303,
          3.6172968393701446,
          -2.3858819506660303,
          3.602497347505759,
          -4.37036221599907,
          -0.39194171191250593,
          -2.3657429403577446,
          9.593565579943945,
          -4.416085983680978,
          -2.4718837389645096,
          7.503878658799655,
          -2.465517683499808,
          -2.43551371608165,
          -0.46929959056948434,
          -4.467149269806787,
          -4.46170352274145,
          -4.496642024914121,
          -4.485750530783447,
          -4.37036221599907,
          -0.3772484486695573,
          -2.385181034973002,
          -2.4362235512391974,
          -4.421425502124879,
          3.591818310617958,
          -4.45636400429755,
          1.5408716607586141,
          3.6174030679915816,
          -4.4470102594985015,
          -0.4175264692861287,
          -4.4362249939892635,
          13.5155832794608,
          -4.4362249939892635,
          -0.4430049980383144,
          -4.401286491816593,
          5.5306810368905275,
          -0.45637296919251114,
          11.573882241387862,
          1.5566138400752898,
          -4.360818767817817,
          -4.445578738788312,
          -4.421531730746315,
          3.4950312568102415,
          0.6598311387453553,
          0.5727596645135353,
          5.561499084086613,
          0.4703774861065062,
          -0.437771708215851,
          6.539674660288288,
          -4.450918257232212,
          1.516356589318332,
          -0.4120807222207912,
          -4.46373864998775,
          -4.4717671026980454,
          -4.43163845961545,
          -4.480666618494959,
          -4.408057530970682,
          -0.4800848560787214,
          -4.501981543358021,
          -0.4928923696093461,
          -4.497351860071668,
          -2.4260537426611646,
          -4.405406946793177,
          1.6165855614625304,
          -1.4837389610325822,
          -2.436839008170402,
          -0.44157347732812546,
          -4.482807974362696,
          -1.4838883385665578,
          -4.492627798558972,
          -4.508030896959469,
          -4.507427290423358,
          -2.508751139762044,
          -3.497002146315408,
          -4.502087771979458,
          -4.518922391090143,
          -2.4684731191454725,
          4.53623129920174,
          -3.4459388601895995,
          -0.41742024066469163,
          -2.4471581942824105,
          -4.473198623408234,
          -4.473198623408234,
          -2.48256277585231,
          -4.476441918897994,
          -0.47453288039194774,
          -4.420249587570102,
          -2.4939516478976587,
          -4.518922391090143,
          -3.440493113124263,
          1.5462111792025146,
          -4.434793473279075,
          -3.446818842740736,
          1.5658389771999763,
          1.4841070214120569,
          -0.4822133327215452,
          7.5310304800212915,
          -2.4739188662108096,
          0.48081475123504536,
          -4.460272002031261,
          -4.415979755059541,
          -2.4919165206513587,
          -4.476503014605835,
          -4.430788166388446,
          -4.512873037488695,
          -4.440132991722975,
          -4.480411012339546,
          3.6023479699717846,
          -4.502691378515569,
          -4.513476644024806,
          -4.473198623408234,
          -3.5009101440491195,
          4.49986127631888,
          -4.445684967409749,
          -2.4262661999040382,
          3.5159981812926056,
          -4.375807963064407,
          -4.460272002031261,
          3.5807774389533087,
          1.4904119811689167,
          -4.4362249939892635,
          -0.3664631831603202,
          -2.41894758235129,
          -3.431245596946651,
          0.5572295676319889,
          -3.371538401179342,
          -4.481948761671172,
          -2.4631336007015725,
          3.577018818753574,
          0.5559250454028506,
          -4.4470191789630205,
          -3.3545975534472197,
          -4.348897913602032,
          -2.4864707735860216,
          -4.416085983680978,
          -1.486830894987309,
          0.5324816438969648,
          -2.4200495219733122,
          -4.467752876342898,
          3.586795494037313,
          4.483282263363607,
          3.6066178024823436,
          -2.462213292302208,
          -4.497245631450232,
          -4.434942850813051,
          -4.542259563974592,
          0.5458406955866417,
          -4.405194489550304,
          -1.446914709147587,
          -4.447720094656049,
          -4.50875258251211,
          -1.477266676946444,
          -2.43551371608165,
          -4.421425502124879,
          -4.481842533049735,
          -4.354237432045933,
          -4.416085983680978,
          -4.451883698545172,
          -0.47937502092117423,
          -4.440132991722975,
          -4.437656514699452,
          -2.509006745917456,
          -4.48127022503107,
          -4.410746465237078,
          0.5216963783877269,
          -2.4980721028742434,
          -4.493443862337957,
          -4.470996171832657,
          0.5256043761214384,
          -4.411350071773189,
          -2.3718130638188057,
          -4.436934829146812,
          -4.507427290423358,
          -4.4717671026980454,
          1.5709680224020595,
          -0.3664631831603202,
          -4.48799811527262,
          -4.50234337813487,
          -4.430885475545363,
          -4.3812537101297435,
          3.529366152446803,
          -0.46705200608031117,
          -4.37036221599907,
          -0.5088677760285085,
          -0.48755285116544567,
          -3.3815076029095947,
          -3.405767068194465,
          5.540141010311013,
          -4.462413357898997,
          -4.395840744751256,
          -0.38258796711345777,
          -0.4432606041937266,
          -0.4470192243934621,
          1.484256398946032
         ],
         "xaxis": "x",
         "y": [
          1.9203798764005926,
          -0.8523987954104539,
          0.12174257726239368,
          2.1007349439403713,
          3.092888890519437,
          2.1018808378931455,
          -0.893320370393563,
          -0.38177043025235236,
          2.050480457584843,
          2.065055349632737,
          3.1141412339378762,
          1.0342716159761132,
          -0.8523987954104539,
          -0.9129160561535539,
          1.0818706423297684,
          2.0264255625551764,
          2.863130497808849,
          3.1141412339378762,
          3.056063402259027,
          2.0913284867632758,
          1.0886957348590176,
          0.15189061415225424,
          2.070076143344834,
          2.9655198931546103,
          2.9456320526394437,
          3.0610841959711257,
          -0.9195935075241017,
          2.0001524254246386,
          1.0552995682363697,
          0.919049027183342,
          2.947211960298411,
          -1.9357288033281557,
          3.021308514940791,
          -0.8692654753638971,
          1.1110939722302327,
          -0.9886692684543834,
          2.018454576073154,
          -1.0338997569030073,
          -2.1826995172961015,
          0.08196689623205966,
          0.04606611496104751,
          -0.9264186000533492,
          -1.181485420491705,
          2.687305530697965,
          -0.9756007382607796,
          2.0662012435855113,
          2.906781078598506,
          3.1047347767607816,
          3.021308514940791,
          2.1640547562946955,
          1.0713182911998986,
          3.058134003201201,
          2.9892826334291005,
          0.8975671292259912,
          -2.051180946659836,
          3.0873573331016617,
          3.0171356782186054,
          1.0925706346183404,
          -1.3353461639375679,
          1.990524781284165,
          -0.9360462441938227,
          2.769151884858987,
          2.1585231988769227,
          -1.0335534499512429,
          3.02610812168951,
          2.058153507104005,
          2.1068248816057595,
          -2.967428876398645,
          2.0797037874853075,
          -1.1926561740725803,
          -2.0572057865402265,
          3.0784616396302438,
          -2.053330886780904,
          -3.0559636386851614,
          -2.0918729671040355,
          -0.08596321938089346,
          0.08668975298129578,
          -2.1067541636903213,
          -0.9925441682137062,
          1.038452820273828,
          -2.0508346397080714,
          -0.1317244035260945,
          -1.9725459240130325,
          -0.9184476135713266,
          -3.1037870561970022,
          -0.3419070424675894,
          -0.9134268198592297,
          1.9997667817073497,
          -3.893690013551069,
          3.158937708680308,
          2.0845033942340265,
          1.0539408475407797,
          0.9122155670785608,
          2.0225506627958536,
          1.9427781137718076,
          1.0992480859888873,
          0.8948381234194427,
          -1.8815258714086278,
          -1.8456250901376157,
          -2.008679464017759,
          -2.054131139429761,
          0.9295930107376806,
          0.11621101984462001,
          3.017433615181468,
          1.006194180028423,
          2.9189191195950297,
          -1.196352467294775,
          0.8254393189881393,
          -0.8468672379926812,
          0.10824003336259747,
          -2.1425781949618496,
          -0.9410670379059196,
          2.8749763840501945,
          3.1114122281313294,
          -3.2131376096488085,
          -0.08266738530705187,
          -0.9449419376652424,
          -0.9259646543562567,
          1.8800934316645819,
          3.092888890519437,
          2.1546482991176,
          3.0784616396302438,
          -1.9928819280176082,
          0.010386520653413278,
          -1.3805282823972886,
          0.874550489403771,
          -2.859031380135122,
          0.08744163564124996,
          0.9917669291392297,
          -1.9896254307092898,
          -1.9437765398096616,
          -1.8920782225384984,
          -2.959381139917139,
          1.8225263636914084,
          -2.0141342714360495,
          2.0756077007626077,
          0.02610152444639713,
          1.9201612674500925,
          -0.8603697818924765,
          0.9926916361286269,
          -1.943997726773039,
          2.7136554178279857,
          1.974803995283497,
          -0.4184714641722218,
          -0.3128255715181423,
          -2.876408823794241,
          -1.9425538958574031,
          2.9575489066725877,
          0.9017341837404906,
          -0.02961034734029777,
          1.067222204477198,
          3.01470203136204,
          3.0801182972886947,
          0.6621695403523029,
          0.07613740185142515,
          2.321884110639508,
          0.9935795955319131,
          -2.0253076030298027,
          3.0411963554559582,
          1.096226925427163,
          -0.9891032821605754,
          -0.8659013393102493,
          3.023419118296334,
          1.8872106789490068,
          1.9045881226081258,
          2.1864529936659114,
          -0.10756186975109916,
          -3.233589700418392,
          1.1332710226380716,
          -1.0953275748522882,
          -2.9991568209474733,
          2.1107765313645652,
          -2.9703874367441023,
          -3.029602794800195,
          -0.9518437801939745,
          3.1063914344192325,
          -1.9014137119237948,
          3.0716365471009945,
          -1.9691191877431184,
          0.08031023857360875,
          -3.0161002509003993,
          0.743079623108561,
          -1.2381903816917497,
          -0.8896640795847395,
          -3.20049725296629,
          0.07528944486151179,
          -2.9717519396473766,
          1.96812654391295,
          -0.8523987954104539,
          0.0899378827140822,
          2.06893024939206,
          3.1008598770014606,
          2.109851824375168,
          -0.893320370393563,
          -0.07153596849170007,
          1.9789000820061977,
          2.065055349632737,
          3.1141412339378762,
          1.0740472970064472,
          -0.892174476440788,
          -1.0640477937928687,
          1.1296173098421258,
          2.0980059381338227,
          3.101784583990857,
          3.1141412339378762,
          3.016287721228694,
          2.0913284867632758,
          1.0886957348590176,
          0.04053455754327384,
          2.109851824375168,
          3.0251834147001118,
          2.9456320526394437,
          3.1008598770014606,
          -0.9195935075241017,
          2.0399281064549735,
          0.9837191926577233,
          1.0362654669188007,
          2.8676605982377428,
          -1.8959531222978212,
          3.1008598770014606,
          -0.9408458509425426,
          1.1110939722302327,
          -0.948893587424049,
          2.1059769246158453,
          -0.8747970327816699,
          -2.142923836265767,
          0.0899378827140822,
          0.054037101443070945,
          -0.8866429190230152,
          -1.0165223132438888,
          2.925959616879971,
          -0.8960493762001107,
          2.018454576073154,
          2.9147520650805294,
          3.1047347767607816,
          3.092888890519437,
          2.132250061746384,
          1.0315426101695637,
          2.9865536276225546,
          3.0290583144594345,
          0.8975671292259912,
          -1.971629584599167,
          3.007805971040993,
          2.9773599971882714,
          0.9732435915273374,
          -1.216019120846565,
          2.070076143344834,
          -0.9678509387421341,
          3.047581652071327,
          2.1187475178465887,
          2.9943034271411983,
          0.032784758024628324,
          -2.049601039000868,
          2.018377826073671,
          2.0670492005754255,
          -0.8960493762001107,
          -3.04486963510377,
          1.9603767443943045,
          3.1008598770014606,
          -0.9582232946016607,
          -2.262416001758529,
          2.760256191387568,
          -1.8210086106655288,
          -2.9785228799800363,
          -2.0918729671040355,
          0.027032013643478514,
          0.1264654340116298,
          -2.4584034828966996,
          -1.0323198492440402,
          1.0861994877861854,
          -1.9797650278351013,
          -2.100691910575972,
          -0.09194872249576047,
          -1.9348808463382419,
          -0.9958883722764522,
          -2.871464780081627,
          -0.3774615167868367,
          -0.8338754577985608,
          1.9976561783518063,
          -3.8857190270690465,
          3.1271330141319966,
          2.132250061746384,
          1.0539408475407797,
          0.9519912481088957,
          2.054355357344165,
          2.0621051568628106,
          1.10721907247091,
          1.0141651665104456,
          -1.8735548849266053,
          -1.8774297846859276,
          -2.0484551450480937,
          -2.165487196038742,
          1.0886957348590176,
          0.11621101984462001,
          3.017433615181468,
          0.8152867613587738,
          2.847338744016384,
          -1.0512772005621258,
          0.930738904690454,
          -1.2581800787445605,
          0.11621101984462001,
          -1.9357288033281557,
          -0.893320370393563,
          3.153406151262536,
          3.119383214613353,
          -2.9267368559544455,
          0.11621101984462001,
          -0.8971952701528858,
          -1.4693216448811413,
          2.9328614594087012,
          -1.166729343893806,
          1.9994204747555857,
          3.1008598770014606,
          2.0154334155114295,
          3.0307149721178854,
          -2.908213518342553,
          -2.0127697685327757,
          0.05016220168374819,
          -1.3009769203366197,
          0.9519912481088957,
          -2.890836074683434,
          0.00577967022503767,
          0.954101851464439,
          -2.067066189414415,
          -1.983552220839996,
          -1.8920782225384984,
          -2.919605458886805,
          -1.9818756311906447,
          1.9816290878127454,
          -1.8948072283450466,
          -0.9527684871833717,
          2.0438030062142962,
          0.0062136839312305625,
          -1.0115015195317913,
          2.0275714565079515,
          -0.8523987954104539,
          1.0802139846713184,
          -1.975802421321351,
          3.000056171522349,
          2.1021020248565225,
          -2.046160152947739,
          -0.2911734345991963,
          -0.21549697229785014,
          -2.8684378373122184,
          -1.855031547314712,
          3.1047347767607816,
          1.0489200538286836,
          0.09768768223272772,
          1.1149688719895554,
          3.0823365393895648,
          3.048313602740383,
          -1.9957921183741618,
          -0.0787441155588251,
          1.0710203542370378,
          0.9583765447242669,
          3.102005770954235,
          3.1008598770014606,
          1.1558904469726645,
          -0.869776239069572,
          -0.7943209637316038,
          0.09078583970399556,
          -1.0165223132438888,
          3.1008598770014606,
          1.9866498815248423,
          2.0040273251839613,
          2.1546482991176,
          -1.0711650410772928,
          1.9717828347217727,
          3.04256085835923,
          -3.4409640055409785,
          -0.05639424817651317,
          -0.15008070637119797,
          -2.0500350527070617,
          2.931199019542567,
          -1.8696799851672825,
          -2.867589880322304,
          -2.912309605065252,
          0.13860925721583595,
          -0.0006056263903344572,
          2.0272735195450906,
          -3.0266926044436415,
          1.1110939722302327,
          -2.0279347522987066,
          -1.9213783024384457,
          -1.9005599727261973,
          -3.009315160784523,
          -0.9303702498121558,
          -0.9463831905680005,
          3.0082399847471866,
          -1.949231347227951,
          -0.8999242759594335,
          0.8923277265633942,
          -2.9420036962580203,
          1.0663058650633337,
          -2.144853255071305,
          1.9877957754776174,
          -0.9989153150458612,
          -0.9074413167443636,
          -1.922226259428359,
          3.1136304702322013,
          3.1047347767607816,
          -0.9342451495714776,
          0.966639685961467,
          -2.8761876368308634,
          -1.939603703087478,
          3.0707118401115983,
          -2.087598273844208,
          -1.0369266996724158,
          -2.092321130593444,
          2.828761919855749,
          -0.996419067973028,
          1.8957065789199223,
          0.08606298295476034,
          -0.9088199694308532,
          0.11786767750307181,
          -3.0592201359934794,
          -4.0208436061602,
          -1.9746565273685759,
          -0.8739490757917556,
          -4.0109832032860115,
          -2.8158915630511414,
          -3.0355882979150617,
          -1.0526074832597119,
          0.12898161307536338,
          -2.8158915630511414,
          -2.985654277047677,
          -0.006026213602935648,
          -0.29215741034501796,
          0.8258932646852326,
          -0.9941240758726728,
          -2.1815536233433264,
          -3.1806577824400266,
          0.009654569984360428,
          -3.0787081830081418,
          0.9842498883543005,
          -0.8786719325409926,
          -2.9991568209474733,
          3.089867729957711,
          -2.0658325887072126,
          3.085771643235012,
          -2.99968751664405,
          2.0333357726594405,
          -2.9306117557137683,
          -0.8722924181333056,
          3.074586739870921,
          -1.9332184064721067,
          3.039831852552683,
          -1.8696799851672825,
          0.04053455754327384,
          -3.0161002509003993,
          1.0215093903209018,
          -0.949327601130241,
          -0.004261917199157139,
          2.9561076537698314,
          -2.947989199372887,
          -3.2902320614021687,
          1.0768498486176723,
          0.9931256498348198,
          2.948357854251186,
          3.132664571549772,
          -1.979379384117812,
          3.047581652071327,
          3.0094626286994455,
          0.9613209552865083,
          1.080724748376995,
          -1.3064516597458096,
          0.031340927108994165,
          2.0756077007626077,
          -1.0985898543682904,
          -1.453308704125297,
          -1.2345424584584581,
          1.952405757912282,
          0.9172363607906586,
          3.009916574396538,
          -0.8866429190230152,
          1.10312298574821,
          3.155062808920987,
          1.0459698610587571,
          -1.9784546771284153,
          2.1153833817929417,
          1.0674433914405759,
          2.9599825535291524,
          -2.9352186061421444,
          -1.949231347227951,
          2.1242790752643614,
          2.132250061746384,
          2.070076143344834,
          -0.9264186000533492,
          -0.8943927185416598,
          -1.1358493563348917,
          -3.0406967983815862,
          0.0689552789595167,
          -0.8507421377520039,
          1.8711977381931622,
          -0.0245895536282017,
          -2.9306117557137683,
          2.884729148179055,
          -0.983648474742286,
          1.0315426101695637,
          1.1428986667785441,
          2.1107765313645652,
          -1.0060467121135015,
          1.1428986667785441,
          -2.983997619389226,
          -1.8845528141780368,
          3.003931071281672,
          2.1825780939065886,
          -0.32427166425898335,
          0.8643921495667204,
          -1.0361179990038787,
          3.101784583990857,
          1.0035051766352483,
          -1.1055877712269817,
          -1.917205465716262,
          1.0768498486176723,
          -0.8205941008621425,
          2.0835786872446302,
          -4.201765501967274,
          1.9248222700750572,
          -2.8684378373122184,
          -1.0910528815924598,
          1.7391001018714167,
          3.1008598770014606,
          0.9338142174487674,
          3.0784616396302438,
          3.0666157533888976,
          -2.881940381212014,
          -2.855156480375799,
          -0.13850949364196996,
          -1.9039241087798437,
          0.7802430507452032,
          3.004365084987864,
          -3.2269889990473275,
          1.1390237670192214,
          -0.8098205627688939,
          3.1141412339378762,
          -1.0661977339139366,
          1.1120186792196298,
          -0.8603697818924765,
          1.0447472171065,
          -0.002625096619128797,
          -0.15668718994994713,
          0.9917669291392297,
          -0.08266738530705187,
          -2.8684378373122184,
          1.0886957348590176,
          2.5646342835442146,
          3.118016133697199,
          2.110997718327943,
          -0.015259846450589087,
          -2.9377347852058766,
          -1.2590512991852174,
          -0.9213978063412522,
          1.5073562257936741,
          -1.178628716683892,
          1.9165049766412698,
          -3.0261818407379657,
          1.9999312384612615,
          0.9440202616268722,
          -0.8244690006214652,
          2.7975156933541694,
          0.13451317049313616,
          1.5940389849219834,
          0.04052877533558963,
          -0.9264186000533492,
          -1.8724089909738306,
          -2.971303776157968,
          0.03163886407185501,
          3.0784616396302438,
          -1.2743181394887926,
          -0.06026914793583593,
          -2.0763081898375995,
          1.8236722576441817,
          -2.2859601330825194,
          -2.0137002577298566,
          -1.815477053247755,
          1.0196967239282184,
          -0.8877888129757903,
          1.6899889314557868,
          0.9798442928984006,
          -0.8468672379926812,
          2.9959600847996493,
          -1.8287584101841738,
          0.7344960163832184,
          0.12101062659333994,
          -2.9203573415467585,
          1.10312298574821,
          -0.9399211439531454,
          -1.4279232930539933,
          2.7513746476993646,
          -2.9306175379214516,
          -2.921716062242348,
          -0.9095519200999069,
          -0.9463064405685166,
          -2.9559601858549094,
          2.111508482033619,
          -2.1857748300544135,
          -1.0441657354853846,
          3.155062808920987,
          1.9875745885142395,
          2.1377816191641568,
          2.840953447401011,
          1.1428986667785441,
          0.12174257726239368,
          0.9102300837114052,
          -3.2999848255310296,
          -1.9802957235316776,
          -2.3122332702130572,
          -0.3932306727764088,
          -3.331897158824669,
          -0.786891396357051,
          -1.8417501903782934,
          1.9811892918988683,
          2.1601798565353727,
          3.119162027649973,
          1.6540881501847737,
          -1.1914225733653776,
          -0.9289289969093986,
          -0.8946848732968373,
          -2.8684378373122184,
          3.0197228250741377,
          3.0531132094891023,
          0.975753988383385,
          1.1334922096014486,
          -0.8786719325409926,
          -0.9002222129222943,
          1.836442850874925,
          -1.2069106006323294,
          0.12561747702171644,
          0.9718790886240622,
          0.06846435233226256,
          -1.9763440737728715,
          -1.0009091659885492,
          0.03665965778395108,
          -0.019128964002227633,
          2.1416565189234795,
          1.0856687920896082,
          3.0531132094891023,
          0.02473702154312285,
          -2.890836074683434,
          0.09078583970399556,
          1.0886957348590176,
          3.155062808920987,
          -1.947651439568984,
          -2.9627452759707853,
          0.14414081463360873,
          2.9075130292675597,
          -0.19231841426867735,
          -1.0817231744148477,
          -2.099438377877869,
          3.1271330141319966,
          -2.9306117557137683,
          0.9123406870669477,
          3.0569881092484232,
          1.1351488672598995,
          -1.154812489860661,
          -0.9344663365348556,
          2.9973245877029218,
          0.020246923527603045,
          -0.8244690006214652,
          -3.0462482877902604,
          2.9958833348001654,
          -2.908213518342553,
          -3.010163117774437,
          1.0848208350996948,
          1.0408723173471772,
          3.027909216311854,
          3.0610841959711257,
          -1.8998280220571435,
          3.007805971040993,
          2.898106572090465,
          1.0010966363168432,
          1.0489200538286836,
          -1.0242721127625343,
          -0.04821043495167476,
          2.0438030062142962,
          -1.1303945489166023,
          -1.1968773807836675,
          -1.2345424584584581,
          2.03195711997295,
          1.0365634038816616,
          3.0873573331016617,
          -0.8786719325409926,
          1.1110939722302327,
          3.1232581143726756,
          1.1334922096014486,
          -1.8909323285857242,
          2.0835786872446302,
          1.0992480859888873,
          3.0793095966201554,
          -2.8158915630511414,
          -1.8696799851672825,
          2.132250061746384,
          2.132250061746384,
          2.070076143344834,
          -0.8786719325409926,
          -0.8864217320596373,
          -1.0165223132438888,
          -2.885815280971337,
          1.0315426101695637,
          -0.9024346728154828,
          1.8314220571628272,
          0.06293279491448978,
          -2.9306117557137683,
          3.047581652071327,
          -1.02342415577262,
          1.0315426101695637,
          1.0713182911998986,
          2.0391961557859197,
          -0.926495350052833,
          1.0713182911998986,
          -2.9463325417144355,
          -1.8765818276960142,
          3.043706752312006,
          2.110997718327943,
          -0.15719795365562295,
          0.8643921495667204,
          -0.9883713314915217,
          3.1097555704728785,
          1.001394573279704,
          -1.2249148143179847,
          -1.8774297846859276,
          1.0450451540693608,
          -0.8523987954104539,
          2.0835786872446302,
          -4.084549062231814,
          2.0797037874853075,
          -2.2560841916918983,
          -2.058930746178481,
          -2.987764880403221,
          -0.892174476440788,
          1.8186514639320857,
          -1.2201919575687485,
          3.021308514940791,
          -2.924011054342704,
          -0.08266738530705187,
          -3.075363978945396,
          1.0091443727983487,
          2.95913459653924,
          -2.933108002786601,
          0.5635641449831654,
          3.034811058840586,
          -2.921716062242348,
          -2.886961174924111,
          -1.8920782225384984,
          -0.023403657262053734,
          -2.015280165388824,
          -2.018307108158233,
          1.0544516112464564,
          3.004365084987864,
          -3.2269889990473275,
          1.10721907247091,
          -0.8416252573172054,
          3.0823365393895648,
          -0.8338754577985608,
          1.1597653467319873,
          -0.8523987954104539,
          1.0447472171065,
          0.474683075744883,
          -0.06916484140725476,
          0.9122155670785608,
          -0.0031160232463829374,
          -2.8684378373122184,
          0.9295930107376806,
          2.4453072404532117,
          3.0862114391488875,
          2.110997718327943,
          -0.007288859968566541,
          -2.88998811769352,
          -1.3187148207307193,
          -0.9532025008895637,
          1.785785993006014,
          -0.9184476135713266,
          2.0040273251839613,
          -2.9784351732256087,
          2.087453587003953,
          1.0315426101695637,
          -0.8562736951697767,
          2.885038041896861,
          0.10270847594482468,
          1.836442850874925,
          -0.0111637597278893,
          -0.8786719325409926,
          -1.8326333099434962,
          -3.132517103634849,
          0.07141454510218903,
          2.998910277569574,
          -0.9582232946016607,
          0.09883357618550193,
          -1.8774297846859276,
          2.1021020248565225,
          -1.9677546848398446,
          0.11621101984462001,
          0.6756720842520991,
          -1.319114614231224,
          0.7026771720516916,
          -0.029687097339781587,
          -3.0897144798351053,
          -1.9083097722448423,
          -2.0137002577298566,
          -0.20951146918298402,
          -1.1453634522573162,
          -2.947989199372887,
          0.9613209552865083,
          3.0480924157770053,
          0.885942429948023,
          -3.137537897346946,
          -2.046160152947739,
          -2.9734143795135113,
          -1.8909323285857242,
          1.0674433914405759,
          -0.8786719325409926,
          1.0937165285711146,
          -2.9919377171254045,
          -1.0099216118728243,
          -0.9593691885544358,
          -2.004727814258953,
          2.0360532066956516,
          1.0196199739287355,
          -0.8786719325409926,
          2.964155390251338,
          -2.0674124963661797,
          0.8376849987299897,
          -0.03012111104597448,
          -2.9521620360950704,
          -1.9917360340648336,
          0.9917669291392297,
          -0.9717258385014569,
          -0.23465286214396297,
          3.009916574396538,
          -1.0416495564216528,
          0.03877026113949533,
          -2.982310072984931,
          -2.8421647001816797,
          -1.068654644221244,
          -2.1172297648207086,
          -0.8786719325409926,
          -2.8684378373122184,
          2.0797037874853075,
          -0.9566433869426936,
          3.0834824333423407,
          2.1546482991176,
          2.1059769246158453,
          3.1511879091616644,
          3.1232581143726756,
          1.1110939722302327,
          0.0899378827140822,
          0.0548850584329843,
          -1.9133305659569397,
          0.027763964312532252,
          3.0873573331016617,
          2.088599480956727,
          1.9653975381064015,
          2.088599480956727,
          0.966639685961467,
          3.1271330141319966,
          2.052698699685715,
          3.0834824333423407,
          1.8012740202729667,
          1.1110939722302327,
          -1.917205465716262,
          -3.1023690667449877,
          -3.0406967983815862,
          -0.8736511388288948,
          -1.0323198492440402,
          -0.9010701699122086,
          -0.8747970327816699,
          -2.8684378373122184,
          -2.8158915630511414,
          3.1271330141319966,
          3.021308514940791,
          1.1440445607313192,
          -0.9253494561000579,
          1.1149688719895554,
          0.9743894854801116,
          -0.8786719325409926,
          -1.0195492560132973,
          1.995545574996263,
          0.09381278247340497,
          1.0315426101695637,
          0.11621101984462001,
          -1.2814495365564333,
          0.11621101984462001,
          0.04053455754327384,
          2.109851824375168,
          -2.0500350527070617,
          -1.9083097722448423,
          -0.28331008686250225,
          -1.0737830766786698,
          2.955384816768304,
          -0.8562736951697767,
          1.0848208350996948,
          -3.0538136985640936,
          2.964901490703607,
          0.03917005464000045,
          -1.0629018998400932,
          -4.084997225721223,
          0.006511620894091408,
          -1.0974381782078315,
          -0.8523987954104539,
          -3.1207788561388314,
          1.0578157473001024,
          0.0537391644802101,
          -1.8989800650672302,
          0.0210948805175164,
          -2.919605458886805,
          3.0638132017776725,
          -1.0547180866152561,
          -2.8645629375528956,
          -3.0215550583186888,
          -2.920136154583381,
          0.12898161307536338,
          1.103344172711588,
          2.955259696779917,
          -2.011189860873808,
          0.10658337570414744,
          -0.9095519200999069,
          -2.0212172985147867,
          -2.080880820060288,
          -1.8920782225384984,
          -2.912386355064736,
          -2.890836074683434,
          -2.9521620360950704,
          -2.8883256778273854,
          -2.894710974442756,
          -2.9649326293258125,
          -0.9623961313238443,
          -2.1037130711376966,
          -0.8761615356849441,
          1.0616906470594252,
          -1.0174386526577543,
          -0.948893587424049,
          -0.948893587424049,
          -1.909455666197617,
          -3.144708631180111,
          -0.998296912594856,
          0.06504339827003403,
          -1.953404183950135,
          -2.9649326293258125,
          -0.8498883985544055,
          -1.02342415577262,
          -0.8338754577985608,
          -0.9403209374536505,
          -0.2282191955396886,
          -3.157825531362618,
          -3.0293048578373343,
          -3.1698842443467785,
          -0.9886692684543834,
          -3.9843102726549686,
          -1.824883510424851,
          1.141242009120094,
          -2.881940381212014,
          -1.8735548849266053,
          -0.8537690805214124,
          -2.917109211813972,
          -0.830000558039238,
          -2.8197664628104637,
          0.8969487267749869,
          -2.9162612548240587,
          -2.9386594921952742,
          -0.948893587424049,
          -3.8345372557112434,
          -3.147267398025063,
          -0.8864217320596373,
          0.06868553929564136,
          -3.0305675042029643,
          3.1008598770014606,
          -1.824883510424851,
          0.852152252032556,
          -3.010163117774437,
          0.11621101984462001,
          3.043706752312006,
          1.9697064515719171,
          0.0924482795701298,
          -0.9540562400871613,
          3.0253988194558064,
          -1.8998280220571435,
          -0.966271031083167,
          -0.024368366664823782,
          -0.031051600243055866,
          -0.9024404550231662,
          3.125768511228725,
          3.1417814519845697,
          -2.855667244081476,
          1.1110939722302327,
          -2.875555084596643,
          -1.9505958501312257,
          -1.1244967525561642,
          -0.9226204502935103,
          -0.1930503649377302,
          -3.1176500568317786,
          1.973147337625047,
          -2.1160355008790304,
          -2.88998811769352,
          -0.9035664169850408,
          -4.85432884232412,
          -0.9980047578396798,
          1.16364024649131,
          -1.0157762127916192,
          0.042114465202241824,
          -1.9106015601503916,
          -3.1045331566492713,
          -0.8736511388288948,
          1.1149688719895554,
          -1.8696799851672825,
          3.1456563517438925,
          1.1110939722302327,
          -1.0039361087579581,
          -1.003019769344093,
          -0.830000558039238,
          1.0662974974878017,
          -3.052001032171411,
          -2.941155739268107,
          1.10721907247091,
          -1.9729940875024412,
          -2.9599118356137155,
          -1.9739245766995221,
          -3.1184354940495727,
          -1.0267825096185832,
          1.0856687920896082,
          3.092888890519437,
          0.06451270257345687,
          -2.890836074683434,
          -1.8989800650672302,
          0.9693686917680147,
          3.043706752312006,
          -1.947651439568984,
          -2.994549970519097,
          0.11233612008529725,
          3.074586739870921,
          -1.0817231744148477,
          -1.9005599727261973,
          3.1271330141319966,
          -2.9703874367441023,
          -3.0254299580780115,
          3.084846936245614,
          1.0834563321964206,
          -1.047402300802803,
          -0.926495350052833,
          2.1361249615057067,
          3.0251834147001118,
          -0.059304438533065884,
          -0.9358250572304456,
          -3.088134572176138
         ],
         "yaxis": "y"
        }
       ],
       "layout": {
        "coloraxis": {
         "colorbar": {
          "title": {
           "text": "Cluster"
          }
         },
         "colorscale": [
          [
           0,
           "#0d0887"
          ],
          [
           0.1111111111111111,
           "#46039f"
          ],
          [
           0.2222222222222222,
           "#7201a8"
          ],
          [
           0.3333333333333333,
           "#9c179e"
          ],
          [
           0.4444444444444444,
           "#bd3786"
          ],
          [
           0.5555555555555556,
           "#d8576b"
          ],
          [
           0.6666666666666666,
           "#ed7953"
          ],
          [
           0.7777777777777778,
           "#fb9f3a"
          ],
          [
           0.8888888888888888,
           "#fdca26"
          ],
          [
           1,
           "#f0f921"
          ]
         ]
        },
        "legend": {
         "tracegroupgap": 0
        },
        "margin": {
         "t": 60
        },
        "template": {
         "data": {
          "bar": [
           {
            "error_x": {
             "color": "#2a3f5f"
            },
            "error_y": {
             "color": "#2a3f5f"
            },
            "marker": {
             "line": {
              "color": "#E5ECF6",
              "width": 0.5
             },
             "pattern": {
              "fillmode": "overlay",
              "size": 10,
              "solidity": 0.2
             }
            },
            "type": "bar"
           }
          ],
          "barpolar": [
           {
            "marker": {
             "line": {
              "color": "#E5ECF6",
              "width": 0.5
             },
             "pattern": {
              "fillmode": "overlay",
              "size": 10,
              "solidity": 0.2
             }
            },
            "type": "barpolar"
           }
          ],
          "carpet": [
           {
            "aaxis": {
             "endlinecolor": "#2a3f5f",
             "gridcolor": "white",
             "linecolor": "white",
             "minorgridcolor": "white",
             "startlinecolor": "#2a3f5f"
            },
            "baxis": {
             "endlinecolor": "#2a3f5f",
             "gridcolor": "white",
             "linecolor": "white",
             "minorgridcolor": "white",
             "startlinecolor": "#2a3f5f"
            },
            "type": "carpet"
           }
          ],
          "choropleth": [
           {
            "colorbar": {
             "outlinewidth": 0,
             "ticks": ""
            },
            "type": "choropleth"
           }
          ],
          "contour": [
           {
            "colorbar": {
             "outlinewidth": 0,
             "ticks": ""
            },
            "colorscale": [
             [
              0,
              "#0d0887"
             ],
             [
              0.1111111111111111,
              "#46039f"
             ],
             [
              0.2222222222222222,
              "#7201a8"
             ],
             [
              0.3333333333333333,
              "#9c179e"
             ],
             [
              0.4444444444444444,
              "#bd3786"
             ],
             [
              0.5555555555555556,
              "#d8576b"
             ],
             [
              0.6666666666666666,
              "#ed7953"
             ],
             [
              0.7777777777777778,
              "#fb9f3a"
             ],
             [
              0.8888888888888888,
              "#fdca26"
             ],
             [
              1,
              "#f0f921"
             ]
            ],
            "type": "contour"
           }
          ],
          "contourcarpet": [
           {
            "colorbar": {
             "outlinewidth": 0,
             "ticks": ""
            },
            "type": "contourcarpet"
           }
          ],
          "heatmap": [
           {
            "colorbar": {
             "outlinewidth": 0,
             "ticks": ""
            },
            "colorscale": [
             [
              0,
              "#0d0887"
             ],
             [
              0.1111111111111111,
              "#46039f"
             ],
             [
              0.2222222222222222,
              "#7201a8"
             ],
             [
              0.3333333333333333,
              "#9c179e"
             ],
             [
              0.4444444444444444,
              "#bd3786"
             ],
             [
              0.5555555555555556,
              "#d8576b"
             ],
             [
              0.6666666666666666,
              "#ed7953"
             ],
             [
              0.7777777777777778,
              "#fb9f3a"
             ],
             [
              0.8888888888888888,
              "#fdca26"
             ],
             [
              1,
              "#f0f921"
             ]
            ],
            "type": "heatmap"
           }
          ],
          "heatmapgl": [
           {
            "colorbar": {
             "outlinewidth": 0,
             "ticks": ""
            },
            "colorscale": [
             [
              0,
              "#0d0887"
             ],
             [
              0.1111111111111111,
              "#46039f"
             ],
             [
              0.2222222222222222,
              "#7201a8"
             ],
             [
              0.3333333333333333,
              "#9c179e"
             ],
             [
              0.4444444444444444,
              "#bd3786"
             ],
             [
              0.5555555555555556,
              "#d8576b"
             ],
             [
              0.6666666666666666,
              "#ed7953"
             ],
             [
              0.7777777777777778,
              "#fb9f3a"
             ],
             [
              0.8888888888888888,
              "#fdca26"
             ],
             [
              1,
              "#f0f921"
             ]
            ],
            "type": "heatmapgl"
           }
          ],
          "histogram": [
           {
            "marker": {
             "pattern": {
              "fillmode": "overlay",
              "size": 10,
              "solidity": 0.2
             }
            },
            "type": "histogram"
           }
          ],
          "histogram2d": [
           {
            "colorbar": {
             "outlinewidth": 0,
             "ticks": ""
            },
            "colorscale": [
             [
              0,
              "#0d0887"
             ],
             [
              0.1111111111111111,
              "#46039f"
             ],
             [
              0.2222222222222222,
              "#7201a8"
             ],
             [
              0.3333333333333333,
              "#9c179e"
             ],
             [
              0.4444444444444444,
              "#bd3786"
             ],
             [
              0.5555555555555556,
              "#d8576b"
             ],
             [
              0.6666666666666666,
              "#ed7953"
             ],
             [
              0.7777777777777778,
              "#fb9f3a"
             ],
             [
              0.8888888888888888,
              "#fdca26"
             ],
             [
              1,
              "#f0f921"
             ]
            ],
            "type": "histogram2d"
           }
          ],
          "histogram2dcontour": [
           {
            "colorbar": {
             "outlinewidth": 0,
             "ticks": ""
            },
            "colorscale": [
             [
              0,
              "#0d0887"
             ],
             [
              0.1111111111111111,
              "#46039f"
             ],
             [
              0.2222222222222222,
              "#7201a8"
             ],
             [
              0.3333333333333333,
              "#9c179e"
             ],
             [
              0.4444444444444444,
              "#bd3786"
             ],
             [
              0.5555555555555556,
              "#d8576b"
             ],
             [
              0.6666666666666666,
              "#ed7953"
             ],
             [
              0.7777777777777778,
              "#fb9f3a"
             ],
             [
              0.8888888888888888,
              "#fdca26"
             ],
             [
              1,
              "#f0f921"
             ]
            ],
            "type": "histogram2dcontour"
           }
          ],
          "mesh3d": [
           {
            "colorbar": {
             "outlinewidth": 0,
             "ticks": ""
            },
            "type": "mesh3d"
           }
          ],
          "parcoords": [
           {
            "line": {
             "colorbar": {
              "outlinewidth": 0,
              "ticks": ""
             }
            },
            "type": "parcoords"
           }
          ],
          "pie": [
           {
            "automargin": true,
            "type": "pie"
           }
          ],
          "scatter": [
           {
            "fillpattern": {
             "fillmode": "overlay",
             "size": 10,
             "solidity": 0.2
            },
            "type": "scatter"
           }
          ],
          "scatter3d": [
           {
            "line": {
             "colorbar": {
              "outlinewidth": 0,
              "ticks": ""
             }
            },
            "marker": {
             "colorbar": {
              "outlinewidth": 0,
              "ticks": ""
             }
            },
            "type": "scatter3d"
           }
          ],
          "scattercarpet": [
           {
            "marker": {
             "colorbar": {
              "outlinewidth": 0,
              "ticks": ""
             }
            },
            "type": "scattercarpet"
           }
          ],
          "scattergeo": [
           {
            "marker": {
             "colorbar": {
              "outlinewidth": 0,
              "ticks": ""
             }
            },
            "type": "scattergeo"
           }
          ],
          "scattergl": [
           {
            "marker": {
             "colorbar": {
              "outlinewidth": 0,
              "ticks": ""
             }
            },
            "type": "scattergl"
           }
          ],
          "scattermapbox": [
           {
            "marker": {
             "colorbar": {
              "outlinewidth": 0,
              "ticks": ""
             }
            },
            "type": "scattermapbox"
           }
          ],
          "scatterpolar": [
           {
            "marker": {
             "colorbar": {
              "outlinewidth": 0,
              "ticks": ""
             }
            },
            "type": "scatterpolar"
           }
          ],
          "scatterpolargl": [
           {
            "marker": {
             "colorbar": {
              "outlinewidth": 0,
              "ticks": ""
             }
            },
            "type": "scatterpolargl"
           }
          ],
          "scatterternary": [
           {
            "marker": {
             "colorbar": {
              "outlinewidth": 0,
              "ticks": ""
             }
            },
            "type": "scatterternary"
           }
          ],
          "surface": [
           {
            "colorbar": {
             "outlinewidth": 0,
             "ticks": ""
            },
            "colorscale": [
             [
              0,
              "#0d0887"
             ],
             [
              0.1111111111111111,
              "#46039f"
             ],
             [
              0.2222222222222222,
              "#7201a8"
             ],
             [
              0.3333333333333333,
              "#9c179e"
             ],
             [
              0.4444444444444444,
              "#bd3786"
             ],
             [
              0.5555555555555556,
              "#d8576b"
             ],
             [
              0.6666666666666666,
              "#ed7953"
             ],
             [
              0.7777777777777778,
              "#fb9f3a"
             ],
             [
              0.8888888888888888,
              "#fdca26"
             ],
             [
              1,
              "#f0f921"
             ]
            ],
            "type": "surface"
           }
          ],
          "table": [
           {
            "cells": {
             "fill": {
              "color": "#EBF0F8"
             },
             "line": {
              "color": "white"
             }
            },
            "header": {
             "fill": {
              "color": "#C8D4E3"
             },
             "line": {
              "color": "white"
             }
            },
            "type": "table"
           }
          ]
         },
         "layout": {
          "annotationdefaults": {
           "arrowcolor": "#2a3f5f",
           "arrowhead": 0,
           "arrowwidth": 1
          },
          "autotypenumbers": "strict",
          "coloraxis": {
           "colorbar": {
            "outlinewidth": 0,
            "ticks": ""
           }
          },
          "colorscale": {
           "diverging": [
            [
             0,
             "#8e0152"
            ],
            [
             0.1,
             "#c51b7d"
            ],
            [
             0.2,
             "#de77ae"
            ],
            [
             0.3,
             "#f1b6da"
            ],
            [
             0.4,
             "#fde0ef"
            ],
            [
             0.5,
             "#f7f7f7"
            ],
            [
             0.6,
             "#e6f5d0"
            ],
            [
             0.7,
             "#b8e186"
            ],
            [
             0.8,
             "#7fbc41"
            ],
            [
             0.9,
             "#4d9221"
            ],
            [
             1,
             "#276419"
            ]
           ],
           "sequential": [
            [
             0,
             "#0d0887"
            ],
            [
             0.1111111111111111,
             "#46039f"
            ],
            [
             0.2222222222222222,
             "#7201a8"
            ],
            [
             0.3333333333333333,
             "#9c179e"
            ],
            [
             0.4444444444444444,
             "#bd3786"
            ],
            [
             0.5555555555555556,
             "#d8576b"
            ],
            [
             0.6666666666666666,
             "#ed7953"
            ],
            [
             0.7777777777777778,
             "#fb9f3a"
            ],
            [
             0.8888888888888888,
             "#fdca26"
            ],
            [
             1,
             "#f0f921"
            ]
           ],
           "sequentialminus": [
            [
             0,
             "#0d0887"
            ],
            [
             0.1111111111111111,
             "#46039f"
            ],
            [
             0.2222222222222222,
             "#7201a8"
            ],
            [
             0.3333333333333333,
             "#9c179e"
            ],
            [
             0.4444444444444444,
             "#bd3786"
            ],
            [
             0.5555555555555556,
             "#d8576b"
            ],
            [
             0.6666666666666666,
             "#ed7953"
            ],
            [
             0.7777777777777778,
             "#fb9f3a"
            ],
            [
             0.8888888888888888,
             "#fdca26"
            ],
            [
             1,
             "#f0f921"
            ]
           ]
          },
          "colorway": [
           "#636efa",
           "#EF553B",
           "#00cc96",
           "#ab63fa",
           "#FFA15A",
           "#19d3f3",
           "#FF6692",
           "#B6E880",
           "#FF97FF",
           "#FECB52"
          ],
          "font": {
           "color": "#2a3f5f"
          },
          "geo": {
           "bgcolor": "white",
           "lakecolor": "white",
           "landcolor": "#E5ECF6",
           "showlakes": true,
           "showland": true,
           "subunitcolor": "white"
          },
          "hoverlabel": {
           "align": "left"
          },
          "hovermode": "closest",
          "mapbox": {
           "style": "light"
          },
          "paper_bgcolor": "white",
          "plot_bgcolor": "#E5ECF6",
          "polar": {
           "angularaxis": {
            "gridcolor": "white",
            "linecolor": "white",
            "ticks": ""
           },
           "bgcolor": "#E5ECF6",
           "radialaxis": {
            "gridcolor": "white",
            "linecolor": "white",
            "ticks": ""
           }
          },
          "scene": {
           "xaxis": {
            "backgroundcolor": "#E5ECF6",
            "gridcolor": "white",
            "gridwidth": 2,
            "linecolor": "white",
            "showbackground": true,
            "ticks": "",
            "zerolinecolor": "white"
           },
           "yaxis": {
            "backgroundcolor": "#E5ECF6",
            "gridcolor": "white",
            "gridwidth": 2,
            "linecolor": "white",
            "showbackground": true,
            "ticks": "",
            "zerolinecolor": "white"
           },
           "zaxis": {
            "backgroundcolor": "#E5ECF6",
            "gridcolor": "white",
            "gridwidth": 2,
            "linecolor": "white",
            "showbackground": true,
            "ticks": "",
            "zerolinecolor": "white"
           }
          },
          "shapedefaults": {
           "line": {
            "color": "#2a3f5f"
           }
          },
          "ternary": {
           "aaxis": {
            "gridcolor": "white",
            "linecolor": "white",
            "ticks": ""
           },
           "baxis": {
            "gridcolor": "white",
            "linecolor": "white",
            "ticks": ""
           },
           "bgcolor": "#E5ECF6",
           "caxis": {
            "gridcolor": "white",
            "linecolor": "white",
            "ticks": ""
           }
          },
          "title": {
           "x": 0.05
          },
          "xaxis": {
           "automargin": true,
           "gridcolor": "white",
           "linecolor": "white",
           "ticks": "",
           "title": {
            "standoff": 15
           },
           "zerolinecolor": "white",
           "zerolinewidth": 2
          },
          "yaxis": {
           "automargin": true,
           "gridcolor": "white",
           "linecolor": "white",
           "ticks": "",
           "title": {
            "standoff": 15
           },
           "zerolinecolor": "white",
           "zerolinewidth": 2
          }
         }
        },
        "xaxis": {
         "anchor": "y",
         "domain": [
          0,
          1
         ],
         "title": {
          "text": "0"
         }
        },
        "yaxis": {
         "anchor": "x",
         "domain": [
          0,
          1
         ],
         "title": {
          "text": "1"
         }
        }
       }
      }
     },
     "metadata": {},
     "output_type": "display_data"
    }
   ],
   "source": [
    "fig = px.scatter(pd.concat([finaldf, pca_df], axis = 1),\n",
    "                 x = 0, y = 1, color='Cluster', hover_data=['category','G3'])\n",
    "fig.show()"
   ]
  }
 ],
 "metadata": {
  "kernelspec": {
   "display_name": ".venv",
   "language": "python",
   "name": "python3"
  },
  "language_info": {
   "codemirror_mode": {
    "name": "ipython",
    "version": 3
   },
   "file_extension": ".py",
   "mimetype": "text/x-python",
   "name": "python",
   "nbconvert_exporter": "python",
   "pygments_lexer": "ipython3",
   "version": "3.12.5"
  }
 },
 "nbformat": 4,
 "nbformat_minor": 2
}
